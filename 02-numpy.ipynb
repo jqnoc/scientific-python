{
 "cells": [
  {
   "cell_type": "markdown",
   "metadata": {},
   "source": [
    "# NumPy"
   ]
  },
  {
   "cell_type": "code",
   "execution_count": 45,
   "metadata": {},
   "outputs": [
    {
     "data": {
      "text/plain": [
       "'1.14.0'"
      ]
     },
     "execution_count": 45,
     "metadata": {},
     "output_type": "execute_result"
    }
   ],
   "source": [
    "import numpy\n",
    "numpy.__version__"
   ]
  },
  {
   "cell_type": "code",
   "execution_count": 46,
   "metadata": {},
   "outputs": [
    {
     "data": {
      "text/plain": [
       "'1.14.0'"
      ]
     },
     "execution_count": 46,
     "metadata": {},
     "output_type": "execute_result"
    }
   ],
   "source": [
    "import numpy as np\n",
    "np.__version__"
   ]
  },
  {
   "cell_type": "code",
   "execution_count": 47,
   "metadata": {},
   "outputs": [
    {
     "name": "stdout",
     "output_type": "stream",
     "text": [
      "[1 2 3]\n"
     ]
    }
   ],
   "source": [
    "x = np.array([1,2,3]) \n",
    "print(x)"
   ]
  },
  {
   "cell_type": "code",
   "execution_count": 48,
   "metadata": {},
   "outputs": [
    {
     "name": "stdout",
     "output_type": "stream",
     "text": [
      "[[1 2]\n",
      " [3 4]]\n"
     ]
    }
   ],
   "source": [
    "a = np.array([[1, 2], [3, 4]]) \n",
    "print(a)"
   ]
  },
  {
   "cell_type": "code",
   "execution_count": 49,
   "metadata": {},
   "outputs": [
    {
     "name": "stdout",
     "output_type": "stream",
     "text": [
      "[1.+0.j 2.+0.j 3.+0.j]\n"
     ]
    }
   ],
   "source": [
    "# complex numbers\n",
    "a = np.array([1, 2, 3], dtype = complex) \n",
    "print(a)"
   ]
  },
  {
   "cell_type": "code",
   "execution_count": 50,
   "metadata": {},
   "outputs": [
    {
     "name": "stdout",
     "output_type": "stream",
     "text": [
      "(2, 3)\n"
     ]
    }
   ],
   "source": [
    "# array dimensions\n",
    "a = np.array([[1,2,3],[4,5,6]]) \n",
    "print (a.shape)"
   ]
  },
  {
   "cell_type": "code",
   "execution_count": 51,
   "metadata": {},
   "outputs": [
    {
     "name": "stdout",
     "output_type": "stream",
     "text": [
      "[[1 2]\n",
      " [3 4]\n",
      " [5 6]]\n"
     ]
    }
   ],
   "source": [
    "# change array dimensions\n",
    "a = np.array([[1,2,3],[4,5,6]]) \n",
    "b = a.reshape(3,2) \n",
    "print(b)"
   ]
  },
  {
   "cell_type": "code",
   "execution_count": 52,
   "metadata": {},
   "outputs": [
    {
     "name": "stdout",
     "output_type": "stream",
     "text": [
      "[0. 0. 0. 0. 0. 0. 0. 0. 0. 0.]\n"
     ]
    }
   ],
   "source": [
    "# vector initialization with 0s\n",
    "z = np.zeros(10)\n",
    "print(z)"
   ]
  },
  {
   "cell_type": "code",
   "execution_count": 53,
   "metadata": {},
   "outputs": [
    {
     "name": "stdout",
     "output_type": "stream",
     "text": [
      "[1. 1. 1. 1. 1. 1. 1. 1. 1. 1.]\n"
     ]
    }
   ],
   "source": [
    "z = np.ones(10)\n",
    "print(z)"
   ]
  },
  {
   "cell_type": "code",
   "execution_count": 54,
   "metadata": {},
   "outputs": [
    {
     "name": "stdout",
     "output_type": "stream",
     "text": [
      "[[ 0.  0.  0.]\n",
      " [10. 10. 10.]\n",
      " [20. 20. 20.]\n",
      " [30. 30. 30.]]\n",
      "[1. 2. 3.]\n",
      "[[ 1.  2.  3.]\n",
      " [11. 12. 13.]\n",
      " [21. 22. 23.]\n",
      " [31. 32. 33.]]\n"
     ]
    }
   ],
   "source": [
    "# matrix sum\n",
    "a = np.array([[0.0,0.0,0.0],[10.0,10.0,10.0],[20.0,20.0,20.0],[30.0,30.0,30.0]]) \n",
    "b = np.array([1.0,2.0,3.0])  \n",
    "   \n",
    "print (a) \n",
    "print (b) \n",
    "print (a + b)"
   ]
  },
  {
   "cell_type": "code",
   "execution_count": 55,
   "metadata": {},
   "outputs": [
    {
     "name": "stdout",
     "output_type": "stream",
     "text": [
      "[[ 0  1  2  3]\n",
      " [ 4  5  6  7]\n",
      " [ 8  9 10 11]]\n",
      "[[ 0  4  8]\n",
      " [ 1  5  9]\n",
      " [ 2  6 10]\n",
      " [ 3  7 11]]\n"
     ]
    }
   ],
   "source": [
    "# matrix transpose\n",
    "a = np.arange(12).reshape(3,4) \n",
    "\n",
    "print (a)  \n",
    "\n",
    "print (np.transpose(a))"
   ]
  },
  {
   "cell_type": "code",
   "execution_count": 56,
   "metadata": {},
   "outputs": [
    {
     "name": "stdout",
     "output_type": "stream",
     "text": [
      "[[1 2]\n",
      " [3 4]]\n",
      "[[1 2]\n",
      " [3 4]]\n",
      "[[1 2]\n",
      " [3 4]\n",
      " [5 6]\n",
      " [7 8]]\n",
      "[[1 2 5 6]\n",
      " [3 4 7 8]]\n"
     ]
    }
   ],
   "source": [
    "# concatenate matrices\n",
    "a = np.array([[1,2],[3,4]]) \n",
    "\n",
    "print(a)\n",
    "\n",
    "b = np.array([[5,6],[7,8]]) \n",
    "\n",
    "print(a)\n",
    "# Los dos tienen las mismas dimensiones\n",
    "\n",
    "print(np.concatenate((a,b))) \n",
    "\n",
    "# Concateno los arrays a lo largo de la primera dimension\n",
    "print(np.concatenate((a,b),axis = 1))"
   ]
  },
  {
   "cell_type": "code",
   "execution_count": 57,
   "metadata": {},
   "outputs": [
    {
     "name": "stdout",
     "output_type": "stream",
     "text": [
      "[5 2 6 2 7 5 6 8 2 9]\n",
      "[2 5 6 7 8 9]\n",
      "[1 0 2 4 7 9]\n"
     ]
    }
   ],
   "source": [
    "# Obtener los valores no repetidos de un vector\n",
    "a = np.array([5,2,6,2,7,5,6,8,2,9]) \n",
    "\n",
    "print(a) \n",
    "\n",
    "u = np.unique(a) \n",
    "print(u) \n",
    "\n",
    "# Valores mas indices\n",
    "u,indices = np.unique(a, return_index = True) \n",
    "print(indices)"
   ]
  },
  {
   "cell_type": "code",
   "execution_count": 58,
   "metadata": {},
   "outputs": [
    {
     "name": "stdout",
     "output_type": "stream",
     "text": [
      "[[1 2 3]\n",
      " [4 5 6]]\n",
      "[1 2 3 4 5 6 7 8 9]\n"
     ]
    }
   ],
   "source": [
    "a = np.array([[1,2,3],[4,5,6]]) \n",
    "\n",
    "print(a)  \n",
    "\n",
    "# Añade los elementos al final del array\n",
    "\n",
    "print(np.append(a, [7,8,9]))"
   ]
  },
  {
   "cell_type": "code",
   "execution_count": 59,
   "metadata": {},
   "outputs": [
    {
     "name": "stdout",
     "output_type": "stream",
     "text": [
      "[10 12 14 16 18 20 22 24 26 28 30 32 34 36 38 40 42 44 46 48]\n"
     ]
    }
   ],
   "source": [
    "#Creo un vector con valores de 10 a 49\n",
    "\n",
    "z = np.arange(10,50,2)\n",
    "print(z)"
   ]
  },
  {
   "cell_type": "code",
   "execution_count": 60,
   "metadata": {},
   "outputs": [
    {
     "name": "stdout",
     "output_type": "stream",
     "text": [
      "[10.  12.5 15.  17.5 20. ]\n"
     ]
    }
   ],
   "source": [
    "# Genera 5 uniformemente separados\n",
    "x = np.linspace(10,20,5) \n",
    "print(x)"
   ]
  },
  {
   "cell_type": "code",
   "execution_count": 61,
   "metadata": {},
   "outputs": [
    {
     "name": "stdout",
     "output_type": "stream",
     "text": [
      "[ 10.          12.91549665  16.68100537  21.5443469   27.82559402\n",
      "  35.93813664  46.41588834  59.94842503  77.42636827 100.        ]\n"
     ]
    }
   ],
   "source": [
    "# En base 10\n",
    "a = np.logspace(1.0, 2.0, num = 10) \n",
    "print(a)"
   ]
  },
  {
   "cell_type": "code",
   "execution_count": 62,
   "metadata": {},
   "outputs": [
    {
     "name": "stdout",
     "output_type": "stream",
     "text": [
      "[0. 0. 0. 0. 1. 0. 0. 0. 0. 0.]\n"
     ]
    }
   ],
   "source": [
    "#La mayor parte del tiempo una lista y un np.array comparten atributos\n",
    "z = np.zeros(10)\n",
    "z[4] = 1\n",
    "print(z)"
   ]
  },
  {
   "cell_type": "code",
   "execution_count": 63,
   "metadata": {},
   "outputs": [
    {
     "name": "stdout",
     "output_type": "stream",
     "text": [
      "[[0 1 2]\n",
      " [3 4 5]\n",
      " [6 7 8]]\n"
     ]
    }
   ],
   "source": [
    "#Creo una matriz 3x3 de valores que van del 0 al 8\n",
    "Z = np.arange(9).reshape(3,3)\n",
    "print(Z)"
   ]
  },
  {
   "cell_type": "code",
   "execution_count": 64,
   "metadata": {},
   "outputs": [
    {
     "name": "stdout",
     "output_type": "stream",
     "text": [
      "(array([0, 1, 4], dtype=int64),)\n"
     ]
    }
   ],
   "source": [
    "nz = np.nonzero([1,2,0,0,4,0])\n",
    "print(nz)"
   ]
  },
  {
   "cell_type": "code",
   "execution_count": 65,
   "metadata": {},
   "outputs": [
    {
     "name": "stdout",
     "output_type": "stream",
     "text": [
      "[[1. 0. 0.]\n",
      " [0. 1. 0.]\n",
      " [0. 0. 1.]]\n"
     ]
    }
   ],
   "source": [
    "#Matriz identidad 3x3\n",
    "Z = np.eye(3)\n",
    "print(Z)"
   ]
  },
  {
   "cell_type": "code",
   "execution_count": 66,
   "metadata": {},
   "outputs": [
    {
     "name": "stdout",
     "output_type": "stream",
     "text": [
      "[[7.93540678e-02 5.29842275e-01 6.44783571e-01 3.99489909e-01\n",
      "  1.47734422e-01 6.39665837e-01 7.52575678e-01 2.52227518e-01\n",
      "  5.30284691e-01 1.66169277e-02]\n",
      " [5.95633008e-01 3.63322691e-01 2.84236374e-01 4.50939986e-01\n",
      "  6.13403699e-01 1.00265396e-01 1.56654929e-01 7.73042331e-01\n",
      "  7.14739763e-01 9.81543639e-01]\n",
      " [4.87953000e-01 5.75857062e-01 7.99146042e-01 5.50059180e-02\n",
      "  8.50345529e-01 7.26986086e-01 2.14619524e-01 9.49102287e-01\n",
      "  5.04916679e-01 7.79130496e-01]\n",
      " [2.70903026e-01 4.35751027e-01 5.05441488e-01 2.96528630e-01\n",
      "  2.64085100e-01 5.55478021e-01 2.35370730e-02 3.57139619e-01\n",
      "  3.33782210e-01 3.24540654e-01]\n",
      " [3.36652808e-01 6.28662047e-01 5.81084082e-01 2.47917493e-01\n",
      "  9.84231014e-02 8.78523833e-01 3.31582734e-01 7.84262377e-01\n",
      "  5.92978181e-01 5.02867859e-01]\n",
      " [3.71123972e-01 6.37242739e-01 3.26697103e-01 4.94092974e-01\n",
      "  8.30085166e-01 6.73326253e-01 6.67467316e-01 9.40673069e-01\n",
      "  7.74653423e-01 4.18748142e-02]\n",
      " [9.94127092e-01 5.82306688e-02 6.32988448e-01 1.84936629e-06\n",
      "  8.05203557e-01 9.32244090e-01 7.89628660e-01 3.80989345e-01\n",
      "  5.69872507e-01 7.21111113e-01]\n",
      " [4.32982773e-01 2.86581079e-01 8.07149491e-01 6.45294884e-01\n",
      "  9.64693935e-01 6.97265595e-01 2.56063359e-01 7.71298156e-01\n",
      "  3.71166311e-01 5.81794979e-01]\n",
      " [9.95586802e-01 8.54713077e-01 6.77774226e-01 3.79427385e-01\n",
      "  9.49501785e-02 2.40156492e-01 1.56856967e-01 4.12900067e-01\n",
      "  9.05599555e-01 3.13406712e-01]\n",
      " [1.75402075e-01 7.98620732e-01 3.47060712e-02 6.05719133e-01\n",
      "  9.13759069e-01 1.99254305e-01 8.81860564e-01 3.34469288e-01\n",
      "  7.40829938e-01 8.03518843e-02]]\n"
     ]
    }
   ],
   "source": [
    "# Creo una matriz 10x10 de numeros aleatorios\n",
    "Z = np.random.random((10,10))\n",
    "print(Z)"
   ]
  },
  {
   "cell_type": "code",
   "execution_count": 67,
   "metadata": {},
   "outputs": [
    {
     "data": {
      "text/plain": [
       "array([[-1.21611222,  0.08157346, -0.9573639 ],\n",
       "       [ 0.9476274 ,  0.6254356 ,  1.75655033],\n",
       "       [ 0.11017258,  2.08785755, -0.76933633]])"
      ]
     },
     "execution_count": 67,
     "metadata": {},
     "output_type": "execute_result"
    }
   ],
   "source": [
    "# Crea una matriz 3x3 de de valores normalmente distribuidos\n",
    "#con media 0 y desviacion tipica 1\n",
    "np.random.normal(0, 1, (3, 3))"
   ]
  },
  {
   "cell_type": "code",
   "execution_count": 35,
   "metadata": {},
   "outputs": [
    {
     "data": {
      "text/plain": [
       "array([[0, 5, 4],\n",
       "       [4, 3, 0],\n",
       "       [3, 5, 6]])"
      ]
     },
     "execution_count": 35,
     "metadata": {},
     "output_type": "execute_result"
    }
   ],
   "source": [
    "# Crea una matriz 3x3 de numeros aleatorios enteros entre el rango 0 y 10\n",
    "np.random.randint(0, 10, (3, 3))"
   ]
  },
  {
   "cell_type": "code",
   "execution_count": 36,
   "metadata": {},
   "outputs": [
    {
     "name": "stdout",
     "output_type": "stream",
     "text": [
      "6.0\n",
      "6.0\n",
      "7.0\n",
      "6.0\n",
      "7\n"
     ]
    }
   ],
   "source": [
    "# Cinco maneras de redondear un numero entero\n",
    "\n",
    "Z= 6.85\n",
    "\n",
    "print (Z - Z%1)\n",
    "print (np.floor(Z))\n",
    "print (np.ceil(Z))\n",
    "print (np.trunc(Z))\n",
    "print(round(Z))"
   ]
  },
  {
   "cell_type": "code",
   "execution_count": 37,
   "metadata": {},
   "outputs": [
    {
     "name": "stdout",
     "output_type": "stream",
     "text": [
      "[[0. 1. 2.]\n",
      " [3. 4. 5.]\n",
      " [6. 7. 8.]]\n",
      "[10 10 10]\n",
      "[[10. 11. 12.]\n",
      " [13. 14. 15.]\n",
      " [16. 17. 18.]]\n",
      "[[-10.  -9.  -8.]\n",
      " [ -7.  -6.  -5.]\n",
      " [ -4.  -3.  -2.]]\n",
      "[[ 0. 10. 20.]\n",
      " [30. 40. 50.]\n",
      " [60. 70. 80.]]\n",
      "[[0.  0.1 0.2]\n",
      " [0.3 0.4 0.5]\n",
      " [0.6 0.7 0.8]]\n"
     ]
    }
   ],
   "source": [
    "a = np.arange(9, dtype = np.float_).reshape(3,3) \n",
    "\n",
    "print(a) \n",
    "\n",
    "b = np.array([10,10,10]) \n",
    "print(b)\n",
    "\n",
    "# Sumo los dos arrays\n",
    "print(np.add(a,b))\n",
    "\n",
    "# Resto los dos arrays\n",
    "print(np.subtract(a,b))\n",
    "      \n",
    "# Multiplico los dos arrays\n",
    "print(np.multiply(a,b)) \n",
    "\n",
    "# Divido los dos arrays\n",
    "print(np.divide(a,b))\n"
   ]
  },
  {
   "cell_type": "code",
   "execution_count": 40,
   "metadata": {},
   "outputs": [
    {
     "name": "stdout",
     "output_type": "stream",
     "text": [
      "2\n",
      "Matriz non simetrica \n",
      "-7.000000000000001\n",
      "[[ 0.28571429  0.57142857 -0.42857143]\n",
      " [ 0.57142857  0.14285714 -0.85714286]\n",
      " [-0.14285714 -0.28571429  0.71428571]]\n",
      "(array([-2.44437482,  3.6624648 ,  0.78191002]), array([[ 0.58045714, -0.80430281, -0.58383444],\n",
      "       [-0.80374863, -0.34501185, -0.6552906 ],\n",
      "       [-0.1306049 , -0.48380141,  0.47930321]]))\n",
      "[[4 1]\n",
      " [2 2]]\n",
      "[[4 1]\n",
      " [2 2]]\n"
     ]
    }
   ],
   "source": [
    "# Operaciones con matrices\n",
    "\n",
    "import numpy.linalg as linalg\n",
    "\n",
    "a=np.array([[1,2,3],[2,-1,0],[1,0,2]])\n",
    "\n",
    "print(np.trace (a))\n",
    "\n",
    "if np.all(a == a.T):\n",
    "    print(\"Matriz simetrica \")\n",
    "else:\n",
    "    print(\"Matriz non simetrica \")\n",
    "    \n",
    "print(linalg.det(a))\n",
    "\n",
    "print(linalg.inv(a))\n",
    "\n",
    "print(linalg.eig(a))\n",
    "\n",
    "# Multiplicacion de matrices elemento a elemento\n",
    "\n",
    "a = [[1, 0], [0, 1]]\n",
    "b = [[4, 1], [2, 2]]\n",
    "\n",
    "print(np.dot(a, b)) # Producto punto\n",
    "\n",
    "print(np.matmul(a, b)) # Producto punto"
   ]
  },
  {
   "cell_type": "code",
   "execution_count": 42,
   "metadata": {},
   "outputs": [
    {
     "name": "stdout",
     "output_type": "stream",
     "text": [
      "[  0.25   1.33   1.     0.1  100.  ]\n",
      "[ 4.         0.7518797  1.        10.         0.01     ]\n"
     ]
    }
   ],
   "source": [
    "a = np.array([0.25, 1.33, 1, 0.1, 100]) \n",
    "\n",
    "print(a)\n",
    "\n",
    "# Calculo el reciproco de la matriz\n",
    "print(np.reciprocal(a))"
   ]
  },
  {
   "cell_type": "code",
   "execution_count": 57,
   "metadata": {},
   "outputs": [
    {
     "name": "stdout",
     "output_type": "stream",
     "text": [
      "[  10  100 1000]\n",
      "[    100   10000 1000000]\n"
     ]
    }
   ],
   "source": [
    "a = np.array([10,100,1000]) \n",
    "\n",
    "print(a)\n",
    "\n",
    "# Elevo el array al cuadrado\n",
    "print(np.power(a,2)) "
   ]
  },
  {
   "cell_type": "code",
   "execution_count": 58,
   "metadata": {},
   "outputs": [
    {
     "name": "stdout",
     "output_type": "stream",
     "text": [
      "[10 20 30]\n",
      "[3 5 7]\n",
      "[1 0 2]\n",
      "[1 0 2]\n"
     ]
    }
   ],
   "source": [
    "# Calculo los restos de las divisiones\n",
    "a = np.array([10,20,30]) \n",
    "b = np.array([3,5,7]) \n",
    "\n",
    "print(a) \n",
    "\n",
    "print(b)\n",
    "\n",
    "print(np.mod(a,b))\n",
    "\n",
    "print(np.remainder(a,b))"
   ]
  },
  {
   "cell_type": "code",
   "execution_count": 59,
   "metadata": {},
   "outputs": [
    {
     "name": "stdout",
     "output_type": "stream",
     "text": [
      "[ -0.-5.6j   0.+0.2j  11.+0.j    1.+1.j ]\n",
      "[ -0.   0.  11.   1.]\n",
      "[-5.6  0.2  0.   1. ]\n",
      "[ -0.+5.6j   0.-0.2j  11.-0.j    1.-1.j ]\n",
      "[-1.57079633  1.57079633  0.          0.78539816]\n",
      "[-90.  90.   0.  45.]\n"
     ]
    }
   ],
   "source": [
    "a = np.array([-5.6j, 0.2j, 11. , 1+1j]) \n",
    "\n",
    "print(a)\n",
    "\n",
    "# Parte real\n",
    "print(np.real(a)) \n",
    "\n",
    "# Parte imaginaria\n",
    "print(np.imag(a)) \n",
    "\n",
    "# Conjugado\n",
    "print(np.conj(a))\n",
    "\n",
    "\n",
    "# Calculo el angulo de la representacion en polares \n",
    "print(np.angle(a))\n",
    "print(np.angle(a, deg = True))"
   ]
  },
  {
   "cell_type": "code",
   "execution_count": 60,
   "metadata": {},
   "outputs": [
    {
     "name": "stdout",
     "output_type": "stream",
     "text": [
      "[[30 65 70]\n",
      " [80 95 10]\n",
      " [50 90 60]]\n",
      "65.0\n",
      "61.1111111111\n",
      "2.0\n",
      "1.11803398875\n",
      "1.25\n",
      "Minimum height:     1\n",
      "Maximum height:     4\n",
      "25th percentile:    1.75\n",
      "Median:             2.5\n",
      "75th percentile:    3.25\n",
      "[3 4 5 2 1]\n",
      "[  0  20  40  60  80 100]\n"
     ]
    }
   ],
   "source": [
    "a = np.array([[30,65,70],[80,95,10],[50,90,60]]) \n",
    "\n",
    "print(a) \n",
    "\n",
    "# Calculo la mediana\n",
    "print(np.median(a)) \n",
    "\n",
    "# La media\n",
    "print(np.mean(a)) \n",
    "\n",
    "a = np.array([1,2,3,4]) \n",
    "wts = np.array([4,3,2,1]) \n",
    "\n",
    "# La media ponderada (con pesos)\n",
    "print(np.average(a,weights = wts))\n",
    "\n",
    "# Desviacion tipica\n",
    "print(np.std([1,2,3,4]))\n",
    "\n",
    "# Varianza\n",
    "print(np.var([1,2,3,4]))\n",
    "\n",
    "print(\"Minimum height:    \", np.min(a))\n",
    "print(\"Maximum height:    \", np.max(a))\n",
    "print(\"25th percentile:   \", np.percentile(a, 25))\n",
    "print(\"Median:            \", np.median(a))\n",
    "print(\"75th percentile:   \", np.percentile(a, 75))\n",
    "\n",
    "a = np.array([22,87,5,43,56,73,55,54,11,20,51,5,79,31,27]) \n",
    "\n",
    "hist,bins = np.histogram(a,bins = [0,20,40,60,80,100]) \n",
    "\n",
    "#Me devuelve los intervalos, y las frecuencias de cada uno de ellos\n",
    "print(hist) \n",
    "print(bins) "
   ]
  },
  {
   "cell_type": "code",
   "execution_count": 73,
   "metadata": {},
   "outputs": [
    {
     "name": "stdout",
     "output_type": "stream",
     "text": [
      "[[3 7]\n",
      " [9 1]]\n",
      "[[3 7]\n",
      " [1 9]]\n",
      "[[30 40 70]\n",
      " [80 20 10]\n",
      " [50 90 60]]\n",
      "7\n",
      "5\n",
      "[[0. 1. 2.]\n",
      " [3. 4. 5.]\n",
      " [6. 7. 8.]]\n"
     ]
    }
   ],
   "source": [
    "a = np.array([[3,7],[9,1]]) \n",
    "\n",
    "print(a)\n",
    "\n",
    "# Ordeno los valores\n",
    "print(np.sort(a))\n",
    "\n",
    "a = np.array([[30,40,70],[80,20,10],[50,90,60]]) \n",
    "\n",
    "print(a)\n",
    "\n",
    "# Obtengo el indice del valor mas alto del array\n",
    "print(np.argmax(a))\n",
    "\n",
    "# Lo mismo con el minimo\n",
    "print(np.argmin(a))\n",
    "\n",
    "x = np.arange(9.).reshape(3, 3) \n",
    "\n",
    "print(x)\n",
    "\n",
    "# Obtengo el indice de los valores que cumplen la condicion\n",
    "y = np.where(x > 3) "
   ]
  },
  {
   "cell_type": "markdown",
   "metadata": {},
   "source": [
    "#### Escribir y guardar datos en archivos"
   ]
  },
  {
   "cell_type": "code",
   "execution_count": 74,
   "metadata": {},
   "outputs": [
    {
     "name": "stdout",
     "output_type": "stream",
     "text": [
      "[1. 2. 3. 4. 5.]\n"
     ]
    }
   ],
   "source": [
    "a = np.array([1,2,3,4,5]) \n",
    "np.savetxt('./out.txt',a) \n",
    "b = np.loadtxt('./out.txt') \n",
    "print(b)"
   ]
  },
  {
   "cell_type": "code",
   "execution_count": 75,
   "metadata": {},
   "outputs": [
    {
     "ename": "TypeError",
     "evalue": "write() argument must be str, not numpy.ndarray",
     "output_type": "error",
     "traceback": [
      "\u001b[1;31m---------------------------------------------------------------------------\u001b[0m",
      "\u001b[1;31mTypeError\u001b[0m                                 Traceback (most recent call last)",
      "\u001b[1;32m<ipython-input-75-d06a136a7f7f>\u001b[0m in \u001b[0;36m<module>\u001b[1;34m()\u001b[0m\n\u001b[0;32m      1\u001b[0m \u001b[1;31m# Otro metodo de escribir datos en archivos\u001b[0m\u001b[1;33m\u001b[0m\u001b[1;33m\u001b[0m\u001b[0m\n\u001b[0;32m      2\u001b[0m \u001b[1;32mwith\u001b[0m \u001b[0mopen\u001b[0m\u001b[1;33m(\u001b[0m\u001b[1;34m'somefile.csv'\u001b[0m\u001b[1;33m,\u001b[0m \u001b[1;34m'a'\u001b[0m\u001b[1;33m)\u001b[0m \u001b[1;32mas\u001b[0m \u001b[0marchivo\u001b[0m\u001b[1;33m:\u001b[0m\u001b[1;33m\u001b[0m\u001b[0m\n\u001b[1;32m----> 3\u001b[1;33m     \u001b[0marchivo\u001b[0m\u001b[1;33m.\u001b[0m\u001b[0mwrite\u001b[0m\u001b[1;33m(\u001b[0m\u001b[0ma\u001b[0m\u001b[1;33m)\u001b[0m\u001b[1;33m\u001b[0m\u001b[0m\n\u001b[0m",
      "\u001b[1;31mTypeError\u001b[0m: write() argument must be str, not numpy.ndarray"
     ]
    }
   ],
   "source": [
    "# Otro metodo de escribir datos en archivos\n",
    "with open('somefile.csv', 'a') as archivo:\n",
    "    archivo.write(a)"
   ]
  },
  {
   "cell_type": "code",
   "execution_count": 76,
   "metadata": {},
   "outputs": [],
   "source": [
    "# Otra manera de leer desde un archivo\n",
    "# data = np.genfromtxt(s, usecols=(0,1),delimiter='\\t')"
   ]
  },
  {
   "cell_type": "markdown",
   "metadata": {},
   "source": [
    "#### Funciones matematicas"
   ]
  },
  {
   "cell_type": "code",
   "execution_count": 77,
   "metadata": {},
   "outputs": [],
   "source": [
    "theta = np.linspace(0, np.pi, 3)"
   ]
  },
  {
   "cell_type": "code",
   "execution_count": 78,
   "metadata": {},
   "outputs": [
    {
     "name": "stdout",
     "output_type": "stream",
     "text": [
      "theta      =  [0.         1.57079633 3.14159265]\n",
      "sin(theta) =  [0.0000000e+00 1.0000000e+00 1.2246468e-16]\n",
      "cos(theta) =  [ 1.000000e+00  6.123234e-17 -1.000000e+00]\n",
      "tan(theta) =  [ 0.00000000e+00  1.63312394e+16 -1.22464680e-16]\n"
     ]
    }
   ],
   "source": [
    "print(\"theta      = \", theta)\n",
    "print(\"sin(theta) = \", np.sin(theta))\n",
    "print(\"cos(theta) = \", np.cos(theta))\n",
    "print(\"tan(theta) = \", np.tan(theta))"
   ]
  },
  {
   "cell_type": "code",
   "execution_count": 79,
   "metadata": {},
   "outputs": [
    {
     "name": "stdout",
     "output_type": "stream",
     "text": [
      "x     = [1, 2, 3]\n",
      "e^x   = [ 2.71828183  7.3890561  20.08553692]\n",
      "2^x   = [2. 4. 8.]\n",
      "3^x   = [ 3  9 27]\n"
     ]
    }
   ],
   "source": [
    "x = [1, 2, 3]\n",
    "print(\"x     =\", x)\n",
    "print(\"e^x   =\", np.exp(x))\n",
    "print(\"2^x   =\", np.exp2(x))\n",
    "print(\"3^x   =\", np.power(3, x))"
   ]
  },
  {
   "cell_type": "code",
   "execution_count": 80,
   "metadata": {},
   "outputs": [
    {
     "name": "stdout",
     "output_type": "stream",
     "text": [
      "x        = [1, 2, 4, 10]\n",
      "ln(x)    = [0.         0.69314718 1.38629436 2.30258509]\n",
      "log2(x)  = [0.         1.         2.         3.32192809]\n",
      "log10(x) = [0.         0.30103    0.60205999 1.        ]\n"
     ]
    }
   ],
   "source": [
    "x = [1, 2, 4, 10]\n",
    "print(\"x        =\", x)\n",
    "print(\"ln(x)    =\", np.log(x))\n",
    "print(\"log2(x)  =\", np.log2(x))\n",
    "print(\"log10(x) =\", np.log10(x))"
   ]
  },
  {
   "cell_type": "code",
   "execution_count": 81,
   "metadata": {},
   "outputs": [
    {
     "name": "stdout",
     "output_type": "stream",
     "text": [
      "[  84.29340846 -100.53595374   44.83281407   -8.859311      0.65459882]\n"
     ]
    },
    {
     "data": {
      "image/png": "[encoded data removed]",
      "text/plain": [
       "<matplotlib.figure.Figure at 0x2190724bac8>"
      ]
     },
     "metadata": {},
     "output_type": "display_data"
    }
   ],
   "source": [
    "import numpy as np\n",
    "import matplotlib.pyplot as plt\n",
    "\n",
    "x = [ 3.08,  3.1 ,  3.12,  3.14,  3.16,  3.18,  3.2 ,  3.22,  3.24,\n",
    "    3.26,  3.28,  3.3 ,  3.32,  3.34,  3.36,  3.38,  3.4 ,  3.42,\n",
    "    3.44,  3.46,  3.48,  3.5 ,  3.52,  3.54,  3.56,  3.58,  3.6 ,\n",
    "    3.62,  3.64,  3.66,  3.68]\n",
    "\n",
    "y = [ 0.000857,  0.001182,  0.001619,  0.002113,  0.002702,  0.003351,\n",
    "    0.004062,  0.004754,  0.00546 ,  0.006183,  0.006816,  0.007362,\n",
    "    0.007844,  0.008207,  0.008474,  0.008541,  0.008539,  0.008445,\n",
    "    0.008251,  0.007974,  0.007608,  0.007193,  0.006752,  0.006269,\n",
    "    0.005799,  0.005302,  0.004822,  0.004339,  0.00391 ,  0.003481,\n",
    "    0.003095]\n",
    "\n",
    "x_new = np.linspace(x[0], x[-1], num=len(x)*10)\n",
    "# En general: np.polynomial.polynomial.polyfit devuelve coeficientes [A, B, C] \n",
    "# de la ecuacion A + Bx + Cx^2 + ..., mientras np.polyfit devuelve: ... + Ax^2 + Bx + C\n",
    "        \n",
    "coefs = np.polynomial.polynomial.polyfit(x, y, 4)\n",
    "\n",
    "print(coefs)\n",
    "\n",
    "ffit = np.polynomial.polynomial.Polynomial(coefs)\n",
    "\n",
    "fig = plt.figure(figsize=(10,8))\n",
    "\n",
    "plt.plot(x, y, label='data')\n",
    "\n",
    "plt.legend()\n",
    "\n",
    "plt.plot(x_new, ffit(x_new), 'hb',markevery=5)\n",
    "plt.show()"
   ]
  },
  {
   "cell_type": "code",
   "execution_count": 83,
   "metadata": {},
   "outputs": [
    {
     "data": {
      "image/png": "[encoded data removed]",
      "text/plain": [
       "<matplotlib.figure.Figure at 0x2190a314048>"
      ]
     },
     "metadata": {},
     "output_type": "display_data"
    }
   ],
   "source": [
    "import numpy as np\n",
    "# from math import *\n",
    "\n",
    "x = np.linspace (0, 2 * np.pi , 10)\n",
    "\n",
    "y = np.sin(x)\n",
    "xvals = np.linspace(0, 2 * np.pi , 50)\n",
    "yinterp = np.interp(xvals , x, y) #interpolacion lineal\n",
    "\n",
    "import matplotlib.pyplot as plt\n",
    "fig = plt.figure(figsize=(10,8))\n",
    "plt.plot(x, y, 'o') # puntos reales\n",
    "plt.plot(xvals , yinterp , '-x') # puntos interpolados\n",
    "plt.title('seno(x)')\n",
    "plt.xlabel('x')\n",
    "plt.ylabel('y')\n",
    "plt.grid(True )\n",
    "plt.show()"
   ]
  },
  {
   "cell_type": "code",
   "execution_count": null,
   "metadata": {},
   "outputs": [],
   "source": []
  }
 ],
 "metadata": {
  "kernelspec": {
   "display_name": "Python 3",
   "language": "python",
   "name": "python3"
  },
  "language_info": {
   "codemirror_mode": {
    "name": "ipython",
    "version": 3
   },
   "file_extension": ".py",
   "mimetype": "text/x-python",
   "name": "python",
   "nbconvert_exporter": "python",
   "pygments_lexer": "ipython3",
   "version": "3.6.4"
  }
 },
 "nbformat": 4,
 "nbformat_minor": 2
}
