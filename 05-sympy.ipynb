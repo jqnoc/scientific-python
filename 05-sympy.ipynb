{
 "cells": [
  {
   "cell_type": "markdown",
   "metadata": {},
   "source": [
    "# SymPy"
   ]
  },
  {
   "cell_type": "markdown",
   "metadata": {},
   "source": [
    "#### SymPy es un paquete de calculo simbolico de Python, similar a Mathematica"
   ]
  },
  {
   "cell_type": "code",
   "execution_count": 451,
   "metadata": {},
   "outputs": [],
   "source": [
    "from sympy import *\n",
    "init_printing()\n",
    "\n",
    "#init_printing() solo lo uso para que los resultados se vean bonitos en el notebook\n"
   ]
  },
  {
   "cell_type": "code",
   "execution_count": 452,
   "metadata": {},
   "outputs": [],
   "source": [
    "x=Symbol('x')"
   ]
  },
  {
   "cell_type": "code",
   "execution_count": 453,
   "metadata": {},
   "outputs": [
    {
     "data": {
      "image/png": "[encoded data removed]",
      "text/latex": [
       "$$x^{2} - 1$$"
      ],
      "text/plain": [
       " 2    \n",
       "x  - 1"
      ]
     },
     "execution_count": 453,
     "metadata": {},
     "output_type": "execute_result"
    }
   ],
   "source": [
    "a=x**2-1\n",
    "a"
   ]
  },
  {
   "cell_type": "code",
   "execution_count": 454,
   "metadata": {},
   "outputs": [],
   "source": [
    "y,z=symbols('y z') # Se pueden definir varios simbolos a la vez"
   ]
  },
  {
   "cell_type": "code",
   "execution_count": 455,
   "metadata": {},
   "outputs": [
    {
     "data": {
      "image/png": "[encoded data removed]",
      "text/latex": [
       "$$\\left(y + 1\\right)^{2} - 1$$"
      ],
      "text/plain": [
       "       2    \n",
       "(y + 1)  - 1"
      ]
     },
     "execution_count": 455,
     "metadata": {},
     "output_type": "execute_result"
    }
   ],
   "source": [
    "a.subs(x,y+1) # Sustituimos donde habia una x --> (y+1)"
   ]
  },
  {
   "cell_type": "markdown",
   "metadata": {},
   "source": [
    "#### Polinomios y funciones racionales"
   ]
  },
  {
   "cell_type": "code",
   "execution_count": 456,
   "metadata": {},
   "outputs": [
    {
     "data": {
      "image/png": "[encoded data removed]",
      "text/latex": [
       "$$\\left(x + y - z\\right)^{6}$$"
      ],
      "text/plain": [
       "           6\n",
       "(x + y - z) "
      ]
     },
     "execution_count": 456,
     "metadata": {},
     "output_type": "execute_result"
    }
   ],
   "source": [
    "a=(x+y-z)**6 # SymPy no desarrolla los parentesis de manera automatica\n",
    "a"
   ]
  },
  {
   "cell_type": "code",
   "execution_count": 457,
   "metadata": {},
   "outputs": [
    {
     "data": {
      "image/png": "[encoded data removed]",
      "text/latex": [
       "$$x^{6} + 6 x^{5} y - 6 x^{5} z + 15 x^{4} y^{2} - 30 x^{4} y z + 15 x^{4} z^{2} + 20 x^{3} y^{3} - 60 x^{3} y^{2} z + 60 x^{3} y z^{2} - 20 x^{3} z^{3} + 15 x^{2} y^{4} - 60 x^{2} y^{3} z + 90 x^{2} y^{2} z^{2} - 60 x^{2} y z^{3} + 15 x^{2} z^{4} + 6 x y^{5} - 30 x y^{4} z + 60 x y^{3} z^{2} - 60 x y^{2} z^{3} + 30 x y z^{4} - 6 x z^{5} + y^{6} - 6 y^{5} z + 15 y^{4} z^{2} - 20 y^{3} z^{3} + 15 y^{2} z^{4} - 6 y z^{5} + z^{6}$$"
      ],
      "text/plain": [
       " 6      5        5         4  2       4           4  2       3  3       3  2  \n",
       "x  + 6⋅x ⋅y - 6⋅x ⋅z + 15⋅x ⋅y  - 30⋅x ⋅y⋅z + 15⋅x ⋅z  + 20⋅x ⋅y  - 60⋅x ⋅y ⋅z\n",
       "\n",
       "       3    2       3  3       2  4       2  3         2  2  2       2    3   \n",
       " + 60⋅x ⋅y⋅z  - 20⋅x ⋅z  + 15⋅x ⋅y  - 60⋅x ⋅y ⋅z + 90⋅x ⋅y ⋅z  - 60⋅x ⋅y⋅z  + \n",
       "\n",
       "    2  4        5         4           3  2         2  3           4        5  \n",
       "15⋅x ⋅z  + 6⋅x⋅y  - 30⋅x⋅y ⋅z + 60⋅x⋅y ⋅z  - 60⋅x⋅y ⋅z  + 30⋅x⋅y⋅z  - 6⋅x⋅z  +\n",
       "\n",
       "  6      5         4  2       3  3       2  4        5    6\n",
       " y  - 6⋅y ⋅z + 15⋅y ⋅z  - 20⋅y ⋅z  + 15⋅y ⋅z  - 6⋅y⋅z  + z "
      ]
     },
     "execution_count": 457,
     "metadata": {},
     "output_type": "execute_result"
    }
   ],
   "source": [
    "a=expand(a) #Funcion para expandir los parentesis\n",
    "a"
   ]
  },
  {
   "cell_type": "code",
   "execution_count": 458,
   "metadata": {},
   "outputs": [
    {
     "data": {
      "image/png": "[encoded data removed]",
      "text/latex": [
       "$$6$$"
      ],
      "text/plain": [
       "6"
      ]
     },
     "execution_count": 458,
     "metadata": {},
     "output_type": "execute_result"
    }
   ],
   "source": [
    "degree(a,x) #Funcion para obtener el grado del polinomio"
   ]
  },
  {
   "cell_type": "code",
   "execution_count": 459,
   "metadata": {},
   "outputs": [
    {
     "data": {
      "image/png": "[encoded data removed]",
      "text/latex": [
       "$$x^{6} + x^{5} \\left(6 y - 6 z\\right) + x^{4} \\left(15 y^{2} - 30 y z + 15 z^{2}\\right) + x^{3} \\left(20 y^{3} - 60 y^{2} z + 60 y z^{2} - 20 z^{3}\\right) + x^{2} \\left(15 y^{4} - 60 y^{3} z + 90 y^{2} z^{2} - 60 y z^{3} + 15 z^{4}\\right) + x \\left(6 y^{5} - 30 y^{4} z + 60 y^{3} z^{2} - 60 y^{2} z^{3} + 30 y z^{4} - 6 z^{5}\\right) + y^{6} - 6 y^{5} z + 15 y^{4} z^{2} - 20 y^{3} z^{3} + 15 y^{2} z^{4} - 6 y z^{5} + z^{6}$$"
      ],
      "text/plain": [
       " 6    5                4 ⎛    2                2⎞    3 ⎛    3       2         \n",
       "x  + x ⋅(6⋅y - 6⋅z) + x ⋅⎝15⋅y  - 30⋅y⋅z + 15⋅z ⎠ + x ⋅⎝20⋅y  - 60⋅y ⋅z + 60⋅y\n",
       "\n",
       "  2       3⎞    2 ⎛    4       3         2  2         3       4⎞     ⎛   5    \n",
       "⋅z  - 20⋅z ⎠ + x ⋅⎝15⋅y  - 60⋅y ⋅z + 90⋅y ⋅z  - 60⋅y⋅z  + 15⋅z ⎠ + x⋅⎝6⋅y  - 3\n",
       "\n",
       "   4         3  2       2  3         4      5⎞    6      5         4  2       \n",
       "0⋅y ⋅z + 60⋅y ⋅z  - 60⋅y ⋅z  + 30⋅y⋅z  - 6⋅z ⎠ + y  - 6⋅y ⋅z + 15⋅y ⋅z  - 20⋅y\n",
       "\n",
       "3  3       2  4        5    6\n",
       " ⋅z  + 15⋅y ⋅z  - 6⋅y⋅z  + z "
      ]
     },
     "execution_count": 459,
     "metadata": {},
     "output_type": "execute_result"
    }
   ],
   "source": [
    "collect(a,x) # Agrupa los terminos con el mismo grado de polinomio"
   ]
  },
  {
   "cell_type": "code",
   "execution_count": 460,
   "metadata": {},
   "outputs": [
    {
     "data": {
      "image/png": "[encoded data removed]",
      "text/latex": [
       "$$\\left(x + y - z\\right)^{6}$$"
      ],
      "text/plain": [
       "           6\n",
       "(x + y - z) "
      ]
     },
     "execution_count": 460,
     "metadata": {},
     "output_type": "execute_result"
    }
   ],
   "source": [
    "a=factor(a) # Funcion para factorizar un polinomio\n",
    "a "
   ]
  },
  {
   "cell_type": "code",
   "execution_count": 461,
   "metadata": {},
   "outputs": [
    {
     "data": {
      "image/png": "[encoded data removed]",
      "text/latex": [
       "$$\\frac{x^{3} - y^{3}}{x^{2} - y^{2}}$$"
      ],
      "text/plain": [
       " 3    3\n",
       "x  - y \n",
       "───────\n",
       " 2    2\n",
       "x  - y "
      ]
     },
     "execution_count": 461,
     "metadata": {},
     "output_type": "execute_result"
    }
   ],
   "source": [
    "a=(x**3-y**3)/(x**2-y**2) #SymPy no cancela automaticamente terminos de fracciones\n",
    "a"
   ]
  },
  {
   "cell_type": "code",
   "execution_count": 462,
   "metadata": {},
   "outputs": [
    {
     "data": {
      "image/png": "[encoded data removed]",
      "text/latex": [
       "$$\\frac{x^{2} + x y + y^{2}}{x + y}$$"
      ],
      "text/plain": [
       " 2          2\n",
       "x  + x⋅y + y \n",
       "─────────────\n",
       "    x + y    "
      ]
     },
     "execution_count": 462,
     "metadata": {},
     "output_type": "execute_result"
    }
   ],
   "source": [
    "cancel(a) # Funcion para cancelar terminos arriba y abajo en una fraccion"
   ]
  },
  {
   "cell_type": "code",
   "execution_count": 463,
   "metadata": {},
   "outputs": [
    {
     "data": {
      "image/png": "[encoded data removed]",
      "text/latex": [
       "$$\\frac{x}{x + y} + \\frac{y}{x - y}$$"
      ],
      "text/plain": [
       "  x       y  \n",
       "───── + ─────\n",
       "x + y   x - y"
      ]
     },
     "execution_count": 463,
     "metadata": {},
     "output_type": "execute_result"
    }
   ],
   "source": [
    "a=y/(x-y)+x/(x+y)\n",
    "a"
   ]
  },
  {
   "cell_type": "code",
   "execution_count": 464,
   "metadata": {},
   "outputs": [
    {
     "data": {
      "image/png": "[encoded data removed]",
      "text/latex": [
       "$$\\frac{x \\left(x - y\\right) + y \\left(x + y\\right)}{\\left(x - y\\right) \\left(x + y\\right)}$$"
      ],
      "text/plain": [
       "x⋅(x - y) + y⋅(x + y)\n",
       "─────────────────────\n",
       "   (x - y)⋅(x + y)   "
      ]
     },
     "execution_count": 464,
     "metadata": {},
     "output_type": "execute_result"
    }
   ],
   "source": [
    "together(a) # Funcion para agrupar fracciones con el minimo comun denominador"
   ]
  },
  {
   "cell_type": "code",
   "execution_count": 465,
   "metadata": {},
   "outputs": [
    {
     "data": {
      "image/png": "[encoded data removed]",
      "text/latex": [
       "$$\\frac{x^{2} + y^{2}}{x^{2} - y^{2}}$$"
      ],
      "text/plain": [
       " 2    2\n",
       "x  + y \n",
       "───────\n",
       " 2    2\n",
       "x  - y "
      ]
     },
     "execution_count": 465,
     "metadata": {},
     "output_type": "execute_result"
    }
   ],
   "source": [
    "simplify(a) # funcion que intenta simplificar la expresion de entrada (dependiendo del problema no funciona muy bien)\n",
    "# Toda la documentacion en :\n",
    "# http://docs.sympy.org/latest/tutorial/simplification.html"
   ]
  },
  {
   "cell_type": "code",
   "execution_count": 466,
   "metadata": {},
   "outputs": [
    {
     "data": {
      "image/png": "[encoded data removed]",
      "text/latex": [
       "$$- \\frac{y}{x + y} + \\frac{y}{x - y} + 1$$"
      ],
      "text/plain": [
       "    y       y      \n",
       "- ───── + ───── + 1\n",
       "  x + y   x - y    "
      ]
     },
     "execution_count": 466,
     "metadata": {},
     "output_type": "execute_result"
    }
   ],
   "source": [
    "apart(a,x) # Descomposicion parcial de la fraccion con respecto a x"
   ]
  },
  {
   "cell_type": "code",
   "execution_count": 467,
   "metadata": {},
   "outputs": [
    {
     "data": {
      "image/png": "[encoded data removed]",
      "text/latex": [
       "$$\\frac{x}{x + y} + \\frac{x}{x - y} - 1$$"
      ],
      "text/plain": [
       "  x       x      \n",
       "───── + ───── - 1\n",
       "x + y   x - y    "
      ]
     },
     "execution_count": 467,
     "metadata": {},
     "output_type": "execute_result"
    }
   ],
   "source": [
    "apart(a,y) # Descomposicion parcial de la fraccion con respecto a y"
   ]
  },
  {
   "cell_type": "code",
   "execution_count": 468,
   "metadata": {},
   "outputs": [
    {
     "data": {
      "image/png": "[encoded data removed]",
      "text/latex": [
       "$$- \\frac{5}{3}$$"
      ],
      "text/plain": [
       "-5/3"
      ]
     },
     "execution_count": 468,
     "metadata": {},
     "output_type": "execute_result"
    }
   ],
   "source": [
    "a=a.subs({x:1,y:2}) #Sustituimos en la expresion x = 1 e y =2\n",
    "a "
   ]
  },
  {
   "cell_type": "code",
   "execution_count": 469,
   "metadata": {},
   "outputs": [
    {
     "data": {
      "image/png": "[encoded data removed]",
      "text/latex": [
       "$$-1.66666666666667$$"
      ],
      "text/plain": [
       "-1.66666666666667"
      ]
     },
     "execution_count": 469,
     "metadata": {},
     "output_type": "execute_result"
    }
   ],
   "source": [
    "a.n() # Evaluacion numerica como un numero flotante. Tambien se puede usar como veremos mas adelante evalf()"
   ]
  },
  {
   "cell_type": "markdown",
   "metadata": {},
   "source": [
    "#### Funciones elementales"
   ]
  },
  {
   "cell_type": "code",
   "execution_count": 470,
   "metadata": {},
   "outputs": [
    {
     "data": {
      "image/png": "[encoded data removed]",
      "text/latex": [
       "$$- \\sin{\\left (x \\right )}$$"
      ],
      "text/plain": [
       "-sin(x)"
      ]
     },
     "execution_count": 470,
     "metadata": {},
     "output_type": "execute_result"
    }
   ],
   "source": [
    "sin(-x)"
   ]
  },
  {
   "cell_type": "code",
   "execution_count": 471,
   "metadata": {},
   "outputs": [
    {
     "data": {
      "image/png": "[encoded data removed]",
      "text/latex": [
       "$$\\left ( \\frac{\\sqrt{2}}{2}, \\quad - \\frac{\\sqrt{3}}{3}\\right )$$"
      ],
      "text/plain": [
       "⎛√2  -√3 ⎞\n",
       "⎜──, ────⎟\n",
       "⎝2    3  ⎠"
      ]
     },
     "execution_count": 471,
     "metadata": {},
     "output_type": "execute_result"
    }
   ],
   "source": [
    "cos(pi/4),tan(5*pi/6)"
   ]
  },
  {
   "cell_type": "code",
   "execution_count": 472,
   "metadata": {},
   "outputs": [
    {
     "data": {
      "image/png": "[encoded data removed]",
      "text/latex": [
       "$$3.141592653589793238462643383279502884197169399375105820974944592307816406286208998628034825342117068$$"
      ],
      "text/plain": [
       "3.1415926535897932384626433832795028841971693993751058209749445923078164062862\n",
       "08998628034825342117068"
      ]
     },
     "execution_count": 472,
     "metadata": {},
     "output_type": "execute_result"
    }
   ],
   "source": [
    "pi.n(100) #Evaluo el numero pi con una precision de 100 cifras"
   ]
  },
  {
   "cell_type": "code",
   "execution_count": 473,
   "metadata": {},
   "outputs": [
    {
     "data": {
      "image/png": "[encoded data removed]",
      "text/latex": [
       "$$\\left ( 0, \\quad 1\\right )$$"
      ],
      "text/plain": [
       "(0, 1)"
      ]
     },
     "execution_count": 473,
     "metadata": {},
     "output_type": "execute_result"
    }
   ],
   "source": [
    "log(1),log(E) # El numero e en SymPy es E"
   ]
  },
  {
   "cell_type": "code",
   "execution_count": 474,
   "metadata": {},
   "outputs": [
    {
     "data": {
      "image/png": "[encoded data removed]",
      "text/latex": [
       "$$\\left ( x, \\quad \\log{\\left (e^{x} \\right )}\\right )$$"
      ],
      "text/plain": [
       "⎛      ⎛ x⎞⎞\n",
       "⎝x, log⎝ℯ ⎠⎠"
      ]
     },
     "execution_count": 474,
     "metadata": {},
     "output_type": "execute_result"
    }
   ],
   "source": [
    "exp(log(x)),log(exp(x)) #Logaritmos"
   ]
  },
  {
   "cell_type": "code",
   "execution_count": 475,
   "metadata": {},
   "outputs": [
    {
     "data": {
      "image/png": "[encoded data removed]",
      "text/latex": [
       "$$\\left ( x^{2}, \\quad \\sqrt{x^{4}}\\right )$$"
      ],
      "text/plain": [
       "⎛       ____⎞\n",
       "⎜ 2    ╱  4 ⎟\n",
       "⎝x , ╲╱  x  ⎠"
      ]
     },
     "execution_count": 475,
     "metadata": {},
     "output_type": "execute_result"
    }
   ],
   "source": [
    "sqrt(x)**4,sqrt(x**4) # Raices"
   ]
  },
  {
   "cell_type": "code",
   "execution_count": 476,
   "metadata": {},
   "outputs": [],
   "source": [
    "#Tened en cuenta que SymPy no simplifica, de ahí que las expresiones de la derecha sean distintas"
   ]
  },
  {
   "cell_type": "code",
   "execution_count": 477,
   "metadata": {},
   "outputs": [
    {
     "data": {
      "image/png": "[encoded data removed]",
      "text/latex": [
       "$$p$$"
      ],
      "text/plain": [
       "p"
      ]
     },
     "execution_count": 477,
     "metadata": {},
     "output_type": "execute_result"
    }
   ],
   "source": [
    "p,q=symbols('p q',positive=True) # Si no defines el true, SymPy no simplifica la raiz\n",
    "sqrt(p**2)"
   ]
  },
  {
   "cell_type": "code",
   "execution_count": 478,
   "metadata": {},
   "outputs": [
    {
     "data": {
      "image/png": "[encoded data removed]",
      "text/latex": [
       "$$e^{2 i \\pi n}$$"
      ],
      "text/plain": [
       " 2⋅ⅈ⋅π⋅n\n",
       "ℯ       "
      ]
     },
     "execution_count": 478,
     "metadata": {},
     "output_type": "execute_result"
    }
   ],
   "source": [
    "n=Symbol('n',integer=True) # I es la unidad imaginaria\n",
    "exp(2*pi*I*n)"
   ]
  },
  {
   "cell_type": "code",
   "execution_count": 479,
   "metadata": {},
   "outputs": [
    {
     "data": {
      "image/png": "[encoded data removed]",
      "text/latex": [
       "$$\\left ( \\frac{e^{i x}}{2} + \\frac{1}{2} e^{- i x}, \\quad i \\sin{\\left (x \\right )} + \\cos{\\left (x \\right )}\\right )$$"
      ],
      "text/plain": [
       "⎛ ⅈ⋅x    -ⅈ⋅x                   ⎞\n",
       "⎜ℯ      ℯ                       ⎟\n",
       "⎜──── + ─────, ⅈ⋅sin(x) + cos(x)⎟\n",
       "⎝ 2       2                     ⎠"
      ]
     },
     "execution_count": 479,
     "metadata": {},
     "output_type": "execute_result"
    }
   ],
   "source": [
    "cos(x).rewrite(exp),exp(I*x).rewrite(cos) # El metodo rewrite intenta reescribir la expresion en terminos de una dada\n",
    "# Primero el coseno en funcion de exp, y luego la exp en funcion del coseno"
   ]
  },
  {
   "cell_type": "code",
   "execution_count": 480,
   "metadata": {},
   "outputs": [
    {
     "data": {
      "image/png": "[encoded data removed]",
      "text/latex": [
       "$$- i \\log{\\left (i x + \\sqrt{- x^{2} + 1} \\right )}$$"
      ],
      "text/plain": [
       "      ⎛         __________⎞\n",
       "      ⎜        ╱    2     ⎟\n",
       "-ⅈ⋅log⎝ⅈ⋅x + ╲╱  - x  + 1 ⎠"
      ]
     },
     "execution_count": 480,
     "metadata": {},
     "output_type": "execute_result"
    }
   ],
   "source": [
    "asin(x).rewrite(log)"
   ]
  },
  {
   "cell_type": "code",
   "execution_count": 481,
   "metadata": {},
   "outputs": [
    {
     "data": {
      "image/png": "[encoded data removed]",
      "text/latex": [
       "$$\\cos^{2}{\\left (x \\right )} + 2$$"
      ],
      "text/plain": [
       "   2       \n",
       "cos (x) + 2"
      ]
     },
     "execution_count": 481,
     "metadata": {},
     "output_type": "execute_result"
    }
   ],
   "source": [
    "trigsimp(2*sin(x)**2+3*cos(x)**2) #trigsimp intenta reescribir una expresion trigonometrica de la forma mas simple\n"
   ]
  },
  {
   "cell_type": "code",
   "execution_count": 482,
   "metadata": {},
   "outputs": [
    {
     "data": {
      "image/png": "[encoded data removed]",
      "text/latex": [
       "$$\\left ( \\sin{\\left (x \\right )} \\cos{\\left (y \\right )} - \\sin{\\left (y \\right )} \\cos{\\left (x \\right )}, \\quad 2 \\sin{\\left (x \\right )} \\cos{\\left (x \\right )}\\right )$$"
      ],
      "text/plain": [
       "(sin(x)⋅cos(y) - sin(y)⋅cos(x), 2⋅sin(x)⋅cos(x))"
      ]
     },
     "execution_count": 482,
     "metadata": {},
     "output_type": "execute_result"
    }
   ],
   "source": [
    "expand_trig(sin(x-y)),expand_trig(sin(2*x)) # Expande senos y cosenos de sumas y angulos multiples"
   ]
  },
  {
   "cell_type": "code",
   "execution_count": 483,
   "metadata": {},
   "outputs": [],
   "source": [
    "# Si queremos realizar la operacion inversa, reescribir productos y exponenciales de senos y cosenos\n",
    "# en expresiones lineales, por ejemplo, una serie de Fourier"
   ]
  },
  {
   "cell_type": "code",
   "execution_count": 484,
   "metadata": {},
   "outputs": [
    {
     "data": {
      "image/png": "[encoded data removed]",
      "text/latex": [
       "$$a_{1} \\cos{\\left (x \\right )} + a_{2} \\cos{\\left (2 x \\right )} + b_{1} \\sin{\\left (x \\right )} + b_{2} \\sin{\\left (2 x \\right )}$$"
      ],
      "text/plain": [
       "a₁⋅cos(x) + a₂⋅cos(2⋅x) + b₁⋅sin(x) + b₂⋅sin(2⋅x)"
      ]
     },
     "execution_count": 484,
     "metadata": {},
     "output_type": "execute_result"
    }
   ],
   "source": [
    "a1,a2,b1,b2=symbols('a1 a2 b1 b2')\n",
    "a=a1*cos(x)+a2*cos(2*x)+b1*sin(x)+b2*sin(2*x)\n",
    "a"
   ]
  },
  {
   "cell_type": "code",
   "execution_count": 485,
   "metadata": {},
   "outputs": [
    {
     "data": {
      "image/png": "[encoded data removed]",
      "text/latex": [
       "$$\\frac{a_{1}^{2}}{2} \\cos{\\left (2 x \\right )} + \\frac{a_{1}^{2}}{2} + a_{1} a_{2} \\cos{\\left (x \\right )} + a_{1} a_{2} \\cos{\\left (3 x \\right )} + a_{1} b_{1} \\sin{\\left (2 x \\right )} + a_{1} b_{2} \\sin{\\left (x \\right )} + a_{1} b_{2} \\sin{\\left (3 x \\right )} + \\frac{a_{2}^{2}}{2} \\cos{\\left (4 x \\right )} + \\frac{a_{2}^{2}}{2} - a_{2} b_{1} \\sin{\\left (x \\right )} + a_{2} b_{1} \\sin{\\left (3 x \\right )} + a_{2} b_{2} \\sin{\\left (4 x \\right )} - \\frac{b_{1}^{2}}{2} \\cos{\\left (2 x \\right )} + \\frac{b_{1}^{2}}{2} + b_{1} b_{2} \\cos{\\left (x \\right )} - b_{1} b_{2} \\cos{\\left (3 x \\right )} - \\frac{b_{2}^{2}}{2} \\cos{\\left (4 x \\right )} + \\frac{b_{2}^{2}}{2}$$"
      ],
      "text/plain": [
       "  2              2                                                            \n",
       "a₁ ⋅cos(2⋅x)   a₁                                                             \n",
       "──────────── + ─── + a₁⋅a₂⋅cos(x) + a₁⋅a₂⋅cos(3⋅x) + a₁⋅b₁⋅sin(2⋅x) + a₁⋅b₂⋅si\n",
       "     2          2                                                             \n",
       "\n",
       "                          2              2                                    \n",
       "                        a₂ ⋅cos(4⋅x)   a₂                                     \n",
       "n(x) + a₁⋅b₂⋅sin(3⋅x) + ──────────── + ─── - a₂⋅b₁⋅sin(x) + a₂⋅b₁⋅sin(3⋅x) + a\n",
       "                             2          2                                     \n",
       "\n",
       "                  2              2                                     2      \n",
       "                b₁ ⋅cos(2⋅x)   b₁                                    b₂ ⋅cos(4\n",
       "₂⋅b₂⋅sin(4⋅x) - ──────────── + ─── + b₁⋅b₂⋅cos(x) - b₁⋅b₂⋅cos(3⋅x) - ─────────\n",
       "                     2          2                                         2   \n",
       "\n",
       "        2\n",
       "⋅x)   b₂ \n",
       "─── + ───\n",
       "       2 "
      ]
     },
     "execution_count": 485,
     "metadata": {},
     "output_type": "execute_result"
    }
   ],
   "source": [
    "a=(a**2).rewrite(exp).expand().rewrite(cos).expand()\n",
    "# Queremos elevarla al cuadrado y luego agrupar los terminos\n",
    "a"
   ]
  },
  {
   "cell_type": "code",
   "execution_count": 486,
   "metadata": {},
   "outputs": [
    {
     "data": {
      "image/png": "[encoded data removed]",
      "text/latex": [
       "$$\\frac{a_{1}^{2}}{2} + a_{1} b_{1} \\sin{\\left (2 x \\right )} + \\frac{a_{2}^{2}}{2} \\cos{\\left (4 x \\right )} + \\frac{a_{2}^{2}}{2} + a_{2} b_{2} \\sin{\\left (4 x \\right )} + \\frac{b_{1}^{2}}{2} - \\frac{b_{2}^{2}}{2} \\cos{\\left (4 x \\right )} + \\frac{b_{2}^{2}}{2} + \\left(\\frac{a_{1}^{2}}{2} - \\frac{b_{1}^{2}}{2}\\right) \\cos{\\left (2 x \\right )} + \\left(a_{1} a_{2} - b_{1} b_{2}\\right) \\cos{\\left (3 x \\right )} + \\left(a_{1} a_{2} + b_{1} b_{2}\\right) \\cos{\\left (x \\right )} + \\left(a_{1} b_{2} - a_{2} b_{1}\\right) \\sin{\\left (x \\right )} + \\left(a_{1} b_{2} + a_{2} b_{1}\\right) \\sin{\\left (3 x \\right )}$$"
      ],
      "text/plain": [
       "  2                      2              2                      2     2        \n",
       "a₁                     a₂ ⋅cos(4⋅x)   a₂                     b₁    b₂ ⋅cos(4⋅x\n",
       "─── + a₁⋅b₁⋅sin(2⋅x) + ──────────── + ─── + a₂⋅b₂⋅sin(4⋅x) + ─── - ───────────\n",
       " 2                          2          2                      2         2     \n",
       "\n",
       "      2   ⎛  2     2⎞                                                         \n",
       ")   b₂    ⎜a₁    b₁ ⎟                                                         \n",
       "─ + ─── + ⎜─── - ───⎟⋅cos(2⋅x) + (a₁⋅a₂ - b₁⋅b₂)⋅cos(3⋅x) + (a₁⋅a₂ + b₁⋅b₂)⋅co\n",
       "     2    ⎝ 2     2 ⎠                                                         \n",
       "\n",
       "                                                        \n",
       "                                                        \n",
       "s(x) + (a₁⋅b₂ - a₂⋅b₁)⋅sin(x) + (a₁⋅b₂ + a₂⋅b₁)⋅sin(3⋅x)\n",
       "                                                        "
      ]
     },
     "execution_count": 486,
     "metadata": {},
     "output_type": "execute_result"
    }
   ],
   "source": [
    "a.collect([cos(x),cos(2*x),cos(3*x),sin(x),sin(2*x),sin(3*x)]) # Funciona de la misma manera de con los polinomios"
   ]
  },
  {
   "cell_type": "code",
   "execution_count": 487,
   "metadata": {},
   "outputs": [
    {
     "data": {
      "image/png": "[encoded data removed]",
      "text/latex": [
       "$$\\log{\\left (p \\right )} + 2 \\log{\\left (q \\right )}$$"
      ],
      "text/plain": [
       "log(p) + 2⋅log(q)"
      ]
     },
     "execution_count": 487,
     "metadata": {},
     "output_type": "execute_result"
    }
   ],
   "source": [
    "a=expand_log(log(p*q**2)) #Transforma logaritmos de productos y exponeciales en suma de logaritmos.\n",
    "# logcombine realiza la operacion inversa\n",
    "a"
   ]
  },
  {
   "cell_type": "code",
   "execution_count": 488,
   "metadata": {},
   "outputs": [
    {
     "data": {
      "image/png": "[encoded data removed]",
      "text/latex": [
       "$$\\log{\\left (p q^{2} \\right )}$$"
      ],
      "text/plain": [
       "   ⎛   2⎞\n",
       "log⎝p⋅q ⎠"
      ]
     },
     "execution_count": 488,
     "metadata": {},
     "output_type": "execute_result"
    }
   ],
   "source": [
    "logcombine(a)"
   ]
  },
  {
   "cell_type": "code",
   "execution_count": 489,
   "metadata": {},
   "outputs": [
    {
     "data": {
      "image/png": "[encoded data removed]",
      "text/latex": [
       "$$x^{p} x^{q}$$"
      ],
      "text/plain": [
       " p  q\n",
       "x ⋅x "
      ]
     },
     "execution_count": 489,
     "metadata": {},
     "output_type": "execute_result"
    }
   ],
   "source": [
    "expand_power_exp(x**(p+q)) # Reescribe exponenciales cuyos exponentes son sumas, como productos de exponenciales"
   ]
  },
  {
   "cell_type": "code",
   "execution_count": 490,
   "metadata": {},
   "outputs": [
    {
     "data": {
      "image/png": "[encoded data removed]",
      "text/latex": [
       "$$x^{n} y^{n}$$"
      ],
      "text/plain": [
       " n  n\n",
       "x ⋅y "
      ]
     },
     "execution_count": 490,
     "metadata": {},
     "output_type": "execute_result"
    }
   ],
   "source": [
    "expand_power_base((x*y)**n) # Lo mismo con las bases"
   ]
  },
  {
   "cell_type": "code",
   "execution_count": 491,
   "metadata": {},
   "outputs": [
    {
     "data": {
      "image/png": "[encoded data removed]",
      "text/latex": [
       "$$\\left ( e^{x + 2 y}, \\quad \\left(x y\\right)^{n}\\right )$$"
      ],
      "text/plain": [
       "⎛ x + 2⋅y       n⎞\n",
       "⎝ℯ       , (x⋅y) ⎠"
      ]
     },
     "execution_count": 491,
     "metadata": {},
     "output_type": "execute_result"
    }
   ],
   "source": [
    "powsimp(exp(x)*exp(2*y)),powsimp(x**n*y**n) # La operacion inversa a las anteriores\n",
    "# simplificacion/agrupacion de exponenciales"
   ]
  },
  {
   "cell_type": "code",
   "execution_count": 492,
   "metadata": {},
   "outputs": [
    {
     "data": {
      "image/png": "[encoded data removed]",
      "text/latex": [
       "$$f{\\left (x \\right )} + f{\\left (x,y \\right )}$$"
      ],
      "text/plain": [
       "f(x) + f(x, y)"
      ]
     },
     "execution_count": 492,
     "metadata": {},
     "output_type": "execute_result"
    }
   ],
   "source": [
    "f=Function('f') # Tambien se pueden definir funciones con argumentos\n",
    "f(x)+f(x,y)"
   ]
  },
  {
   "cell_type": "markdown",
   "metadata": {},
   "source": [
    "#### Estructura de las expresiones"
   ]
  },
  {
   "cell_type": "code",
   "execution_count": 493,
   "metadata": {},
   "outputs": [
    {
     "data": {
      "text/plain": [
       "\"Add(Symbol('x'), Integer(1))\""
      ]
     },
     "execution_count": 493,
     "metadata": {},
     "output_type": "execute_result"
    }
   ],
   "source": [
    "srepr(x+1) # srepr nos devuelve una estructura de arbol en formato string donde estan definidas nuestras variables"
   ]
  },
  {
   "cell_type": "code",
   "execution_count": 494,
   "metadata": {},
   "outputs": [
    {
     "data": {
      "text/plain": [
       "\"Add(Symbol('x'), Integer(-1))\""
      ]
     },
     "execution_count": 494,
     "metadata": {},
     "output_type": "execute_result"
    }
   ],
   "source": [
    "srepr(x-1)"
   ]
  },
  {
   "cell_type": "code",
   "execution_count": 495,
   "metadata": {},
   "outputs": [
    {
     "data": {
      "text/plain": [
       "\"Mul(Rational(2, 3), Symbol('x'), Symbol('y'))\""
      ]
     },
     "execution_count": 495,
     "metadata": {},
     "output_type": "execute_result"
    }
   ],
   "source": [
    "srepr(2*x*y/3)"
   ]
  },
  {
   "cell_type": "code",
   "execution_count": 496,
   "metadata": {},
   "outputs": [
    {
     "data": {
      "text/plain": [
       "\"Mul(Symbol('x'), Pow(Symbol('y'), Integer(-1)))\""
      ]
     },
     "execution_count": 496,
     "metadata": {},
     "output_type": "execute_result"
    }
   ],
   "source": [
    "srepr(x/y)"
   ]
  },
  {
   "cell_type": "code",
   "execution_count": 497,
   "metadata": {},
   "outputs": [],
   "source": [
    "#En vez de usar los operadores habituales +-*, tambien se pueden usar las funciones Add, Mul, Pow"
   ]
  },
  {
   "cell_type": "code",
   "execution_count": 498,
   "metadata": {},
   "outputs": [
    {
     "data": {
      "image/png": "[encoded data removed]",
      "text/latex": [
       "$$\\frac{x}{y - 2}$$"
      ],
      "text/plain": [
       "  x  \n",
       "─────\n",
       "y - 2"
      ]
     },
     "execution_count": 498,
     "metadata": {},
     "output_type": "execute_result"
    }
   ],
   "source": [
    "Mul(x,Pow(y-2,-1))"
   ]
  },
  {
   "cell_type": "code",
   "execution_count": 499,
   "metadata": {},
   "outputs": [
    {
     "data": {
      "text/plain": [
       "\"Function('f')(Symbol('x'), Symbol('y'))\""
      ]
     },
     "execution_count": 499,
     "metadata": {},
     "output_type": "execute_result"
    }
   ],
   "source": [
    "f=Function('f')\n",
    "srepr(f(x,y))"
   ]
  },
  {
   "cell_type": "code",
   "execution_count": 500,
   "metadata": {},
   "outputs": [
    {
     "data": {
      "text/plain": [
       "sympy.core.mul.Mul"
      ]
     },
     "execution_count": 500,
     "metadata": {},
     "output_type": "execute_result"
    }
   ],
   "source": [
    "a=2*x*y**2\n",
    "a.func\n"
   ]
  },
  {
   "cell_type": "code",
   "execution_count": 501,
   "metadata": {},
   "outputs": [
    {
     "data": {
      "image/png": "[encoded data removed]",
      "text/latex": [
       "$$\\left ( 2, \\quad x, \\quad y^{2}\\right )$$"
      ],
      "text/plain": [
       "⎛       2⎞\n",
       "⎝2, x, y ⎠"
      ]
     },
     "execution_count": 501,
     "metadata": {},
     "output_type": "execute_result"
    }
   ],
   "source": [
    "a.args"
   ]
  },
  {
   "cell_type": "code",
   "execution_count": 502,
   "metadata": {},
   "outputs": [
    {
     "data": {
      "image/png": "[encoded data removed]",
      "text/latex": [
       "$$8 x$$"
      ],
      "text/plain": [
       "8⋅x"
      ]
     },
     "execution_count": 502,
     "metadata": {},
     "output_type": "execute_result"
    }
   ],
   "source": [
    "a.subs(y,2) #Sustituimos y = 2"
   ]
  },
  {
   "cell_type": "code",
   "execution_count": 503,
   "metadata": {},
   "outputs": [
    {
     "data": {
      "image/png": "[encoded data removed]",
      "text/latex": [
       "$$8 \\pi$$"
      ],
      "text/plain": [
       "8⋅π"
      ]
     },
     "execution_count": 503,
     "metadata": {},
     "output_type": "execute_result"
    }
   ],
   "source": [
    "a.subs([(x,pi),(y,2)]) # Se pueden sustituir varios simbolos a la vez. Como una lista"
   ]
  },
  {
   "cell_type": "code",
   "execution_count": 504,
   "metadata": {},
   "outputs": [
    {
     "data": {
      "image/png": "[encoded data removed]",
      "text/latex": [
       "$$8 \\pi$$"
      ],
      "text/plain": [
       "8⋅π"
      ]
     },
     "execution_count": 504,
     "metadata": {},
     "output_type": "execute_result"
    }
   ],
   "source": [
    "a.subs({x:pi,y:2}) # Como una tupla"
   ]
  },
  {
   "cell_type": "code",
   "execution_count": 505,
   "metadata": {},
   "outputs": [
    {
     "data": {
      "image/png": "[encoded data removed]",
      "text/latex": [
       "$$f{\\left (x \\right )} + 1$$"
      ],
      "text/plain": [
       "f(x) + 1"
      ]
     },
     "execution_count": 505,
     "metadata": {},
     "output_type": "execute_result"
    }
   ],
   "source": [
    "a=f(x)+f(y) # Tambien se puede sustituir el argumento de una funcion\n",
    "a.subs(f(y),1)"
   ]
  },
  {
   "cell_type": "code",
   "execution_count": 506,
   "metadata": {},
   "outputs": [
    {
     "data": {
      "image/png": "[encoded data removed]",
      "text/latex": [
       "$$2 z^{2}$$"
      ],
      "text/plain": [
       "   2\n",
       "2⋅z "
      ]
     },
     "execution_count": 506,
     "metadata": {},
     "output_type": "execute_result"
    }
   ],
   "source": [
    "(2*x*y*z).subs(x*y,z)"
   ]
  },
  {
   "cell_type": "code",
   "execution_count": 507,
   "metadata": {},
   "outputs": [
    {
     "data": {
      "image/png": "[encoded data removed]",
      "text/latex": [
       "$$x^{3} + x + y^{2} + y$$"
      ],
      "text/plain": [
       " 3        2    \n",
       "x  + x + y  + y"
      ]
     },
     "execution_count": 507,
     "metadata": {},
     "output_type": "execute_result"
    }
   ],
   "source": [
    "(x+x**2+x**3+x**4).subs(x**2,y)"
   ]
  },
  {
   "cell_type": "code",
   "execution_count": 508,
   "metadata": {},
   "outputs": [
    {
     "data": {
      "image/png": "[encoded data removed]",
      "text/latex": [
       "$$x^{3} + x^{2}$$"
      ],
      "text/plain": [
       " 3    2\n",
       "x  + x "
      ]
     },
     "execution_count": 508,
     "metadata": {},
     "output_type": "execute_result"
    }
   ],
   "source": [
    "a=x**2+y**3 #Sustitucion secuencial, primero x por y, luego y por x\n",
    "a.subs([(x,y),(y,x)])"
   ]
  },
  {
   "cell_type": "code",
   "execution_count": 509,
   "metadata": {},
   "outputs": [
    {
     "data": {
      "image/png": "[encoded data removed]",
      "text/latex": [
       "$$y^{3} + y^{2}$$"
      ],
      "text/plain": [
       " 3    2\n",
       "y  + y "
      ]
     },
     "execution_count": 509,
     "metadata": {},
     "output_type": "execute_result"
    }
   ],
   "source": [
    "a.subs([(y,x),(x,y)]) # Misma sustitucion, cambiando el orden"
   ]
  },
  {
   "cell_type": "code",
   "execution_count": 510,
   "metadata": {},
   "outputs": [
    {
     "data": {
      "image/png": "[encoded data removed]",
      "text/latex": [
       "$$x^{3} + y^{2}$$"
      ],
      "text/plain": [
       " 3    2\n",
       "x  + y "
      ]
     },
     "execution_count": 510,
     "metadata": {},
     "output_type": "execute_result"
    }
   ],
   "source": [
    "a.subs([(x,y),(y,x)],simultaneous=True) # De manera simultanea"
   ]
  },
  {
   "cell_type": "code",
   "execution_count": 511,
   "metadata": {},
   "outputs": [
    {
     "data": {
      "image/png": "[encoded data removed]",
      "text/latex": [
       "$$g{\\left (x \\right )} + g{\\left (y \\right )}$$"
      ],
      "text/plain": [
       "g(x) + g(y)"
      ]
     },
     "execution_count": 511,
     "metadata": {},
     "output_type": "execute_result"
    }
   ],
   "source": [
    "g=Function('g') # Tambien se pueden sustituir funciones\n",
    "a=f(x)+f(y)\n",
    "a.subs(f,g)"
   ]
  },
  {
   "cell_type": "markdown",
   "metadata": {},
   "source": [
    "#### Resolucion de ecuaciones"
   ]
  },
  {
   "cell_type": "code",
   "execution_count": 512,
   "metadata": {},
   "outputs": [],
   "source": [
    "a,b,c,d,e,f=symbols('a b c d e f')"
   ]
  },
  {
   "cell_type": "code",
   "execution_count": 513,
   "metadata": {},
   "outputs": [
    {
     "data": {
      "image/png": "[encoded data removed]",
      "text/latex": [
       "$$a x = b$$"
      ],
      "text/plain": [
       "a⋅x = b"
      ]
     },
     "execution_count": 513,
     "metadata": {},
     "output_type": "execute_result"
    }
   ],
   "source": [
    "Eq(a*x,b)"
   ]
  },
  {
   "cell_type": "code",
   "execution_count": 514,
   "metadata": {},
   "outputs": [
    {
     "data": {
      "image/png": "[encoded data removed]",
      "text/latex": [
       "$$\\left [ \\frac{b}{a}\\right ]$$"
      ],
      "text/plain": [
       "⎡b⎤\n",
       "⎢─⎥\n",
       "⎣a⎦"
      ]
     },
     "execution_count": 514,
     "metadata": {},
     "output_type": "execute_result"
    }
   ],
   "source": [
    "solve(Eq(a*x,b),x)"
   ]
  },
  {
   "cell_type": "code",
   "execution_count": 515,
   "metadata": {},
   "outputs": [
    {
     "data": {
      "image/png": "[encoded data removed]",
      "text/latex": [
       "$$\\left [ - \\frac{b}{a}\\right ]$$"
      ],
      "text/plain": [
       "⎡-b ⎤\n",
       "⎢───⎥\n",
       "⎣ a ⎦"
      ]
     },
     "execution_count": 515,
     "metadata": {},
     "output_type": "execute_result"
    }
   ],
   "source": [
    "solve(a*x+b,x)"
   ]
  },
  {
   "cell_type": "code",
   "execution_count": 516,
   "metadata": {},
   "outputs": [
    {
     "data": {
      "image/png": "[encoded data removed]",
      "text/latex": [
       "$$\\left [ \\frac{1}{2 a} \\left(- b + \\sqrt{- 4 a c + b^{2}}\\right), \\quad - \\frac{1}{2 a} \\left(b + \\sqrt{- 4 a c + b^{2}}\\right)\\right ]$$"
      ],
      "text/plain": [
       "⎡        _____________   ⎛       _____________⎞ ⎤\n",
       "⎢       ╱           2    ⎜      ╱           2 ⎟ ⎥\n",
       "⎢-b + ╲╱  -4⋅a⋅c + b    -⎝b + ╲╱  -4⋅a⋅c + b  ⎠ ⎥\n",
       "⎢─────────────────────, ────────────────────────⎥\n",
       "⎣         2⋅a                     2⋅a           ⎦"
      ]
     },
     "execution_count": 516,
     "metadata": {},
     "output_type": "execute_result"
    }
   ],
   "source": [
    "solve(a*x**2+b*x+c,x)"
   ]
  },
  {
   "cell_type": "code",
   "execution_count": 517,
   "metadata": {},
   "outputs": [
    {
     "data": {
      "image/png": "[encoded data removed]",
      "text/latex": [
       "$$\\left [ a x + b y - e, \\quad c x + d y - f\\right ]$$"
      ],
      "text/plain": [
       "[a⋅x + b⋅y - e, c⋅x + d⋅y - f]"
      ]
     },
     "execution_count": 517,
     "metadata": {},
     "output_type": "execute_result"
    }
   ],
   "source": [
    "[a*x+b*y-e,c*x+d*y-f]"
   ]
  },
  {
   "cell_type": "code",
   "execution_count": 518,
   "metadata": {},
   "outputs": [
    {
     "data": {
      "image/png": "[encoded data removed]",
      "text/latex": [
       "$$\\left \\{ x : \\frac{- b f + d e}{a d - b c}, \\quad y : \\frac{a f - c e}{a d - b c}\\right \\}$$"
      ],
      "text/plain": [
       "⎧   -b⋅f + d⋅e     a⋅f - c⋅e⎫\n",
       "⎨x: ──────────, y: ─────────⎬\n",
       "⎩   a⋅d - b⋅c      a⋅d - b⋅c⎭"
      ]
     },
     "execution_count": 518,
     "metadata": {},
     "output_type": "execute_result"
    }
   ],
   "source": [
    "solve([a*x+b*y-e,c*x+d*y-f],[x,y]) # Sistema de ecuaciones lineales"
   ]
  },
  {
   "cell_type": "code",
   "execution_count": 519,
   "metadata": {},
   "outputs": [
    {
     "data": {
      "image/png": "[encoded data removed]",
      "text/latex": [
       "$$\\left \\{ -2 : 1, \\quad 1 : 2\\right \\}$$"
      ],
      "text/plain": [
       "{-2: 1, 1: 2}"
      ]
     },
     "execution_count": 519,
     "metadata": {},
     "output_type": "execute_result"
    }
   ],
   "source": [
    "roots(x**3-3*x+2,x) #Obtengo las raices de la expresion"
   ]
  },
  {
   "cell_type": "code",
   "execution_count": 520,
   "metadata": {},
   "outputs": [
    {
     "data": {
      "image/png": "[encoded data removed]",
      "text/latex": [
       "$$\\left [ \\left ( 4 \\left(-1 - \\sqrt{- \\frac{\\sqrt{3}}{4} + \\frac{1}{2}}\\right) \\sqrt{- \\frac{\\sqrt{3}}{4} + \\frac{1}{2}} \\left(- \\sqrt{- \\frac{\\sqrt{3}}{4} + \\frac{1}{2}} + 1\\right), \\quad - \\sqrt{- \\frac{\\sqrt{3}}{4} + \\frac{1}{2}}\\right ), \\quad \\left ( - 4 \\left(-1 + \\sqrt{- \\frac{\\sqrt{3}}{4} + \\frac{1}{2}}\\right) \\sqrt{- \\frac{\\sqrt{3}}{4} + \\frac{1}{2}} \\left(\\sqrt{- \\frac{\\sqrt{3}}{4} + \\frac{1}{2}} + 1\\right), \\quad \\sqrt{- \\frac{\\sqrt{3}}{4} + \\frac{1}{2}}\\right ), \\quad \\left ( 4 \\left(-1 - \\sqrt{\\frac{\\sqrt{3}}{4} + \\frac{1}{2}}\\right) \\sqrt{\\frac{\\sqrt{3}}{4} + \\frac{1}{2}} \\left(- \\sqrt{\\frac{\\sqrt{3}}{4} + \\frac{1}{2}} + 1\\right), \\quad - \\sqrt{\\frac{\\sqrt{3}}{4} + \\frac{1}{2}}\\right ), \\quad \\left ( - 4 \\left(-1 + \\sqrt{\\frac{\\sqrt{3}}{4} + \\frac{1}{2}}\\right) \\sqrt{\\frac{\\sqrt{3}}{4} + \\frac{1}{2}} \\left(\\sqrt{\\frac{\\sqrt{3}}{4} + \\frac{1}{2}} + 1\\right), \\quad \\sqrt{\\frac{\\sqrt{3}}{4} + \\frac{1}{2}}\\right )\\right ]$$"
      ],
      "text/plain": [
       "⎡⎛  ⎛         __________⎞     __________ ⎛      __________    ⎞       ________\n",
       "⎢⎜  ⎜        ╱   √3   1 ⎟    ╱   √3   1  ⎜     ╱   √3   1     ⎟      ╱   √3   \n",
       "⎢⎜4⋅⎜-1 -   ╱  - ── + ─ ⎟⋅  ╱  - ── + ─ ⋅⎜-   ╱  - ── + ─  + 1⎟, -  ╱  - ── + \n",
       "⎣⎝  ⎝     ╲╱     4    2 ⎠ ╲╱     4    2  ⎝  ╲╱     4    2     ⎠   ╲╱     4    \n",
       "\n",
       "__⎞  ⎛   ⎛         __________⎞     __________ ⎛    __________    ⎞      ______\n",
       "1 ⎟  ⎜   ⎜        ╱   √3   1 ⎟    ╱   √3   1  ⎜   ╱   √3   1     ⎟     ╱   √3 \n",
       "─ ⎟, ⎜-4⋅⎜-1 +   ╱  - ── + ─ ⎟⋅  ╱  - ── + ─ ⋅⎜  ╱  - ── + ─  + 1⎟,   ╱  - ── \n",
       "2 ⎠  ⎝   ⎝     ╲╱     4    2 ⎠ ╲╱     4    2  ⎝╲╱     4    2     ⎠  ╲╱     4  \n",
       "\n",
       "____⎞  ⎛  ⎛         ________⎞     ________ ⎛      ________    ⎞       ________\n",
       "  1 ⎟  ⎜  ⎜        ╱ √3   1 ⎟    ╱ √3   1  ⎜     ╱ √3   1     ⎟      ╱ √3   1 \n",
       "+ ─ ⎟, ⎜4⋅⎜-1 -   ╱  ── + ─ ⎟⋅  ╱  ── + ─ ⋅⎜-   ╱  ── + ─  + 1⎟, -  ╱  ── + ─ \n",
       "  2 ⎠  ⎝  ⎝     ╲╱   4    2 ⎠ ╲╱   4    2  ⎝  ╲╱   4    2     ⎠   ╲╱   4    2 \n",
       "\n",
       "⎞  ⎛   ⎛         ________⎞     ________ ⎛    ________    ⎞      ________⎞⎤\n",
       "⎟  ⎜   ⎜        ╱ √3   1 ⎟    ╱ √3   1  ⎜   ╱ √3   1     ⎟     ╱ √3   1 ⎟⎥\n",
       "⎟, ⎜-4⋅⎜-1 +   ╱  ── + ─ ⎟⋅  ╱  ── + ─ ⋅⎜  ╱  ── + ─  + 1⎟,   ╱  ── + ─ ⎟⎥\n",
       "⎠  ⎝   ⎝     ╲╱   4    2 ⎠ ╲╱   4    2  ⎝╲╱   4    2     ⎠  ╲╱   4    2 ⎠⎦"
      ]
     },
     "execution_count": 520,
     "metadata": {},
     "output_type": "execute_result"
    }
   ],
   "source": [
    "p1=x**2+y**2-1\n",
    "p2=4*x*y-1\n",
    "solve_poly_system([p1,p2],x,y) #Resuelve un sistema de ecuaciones polinomicas construyendo sus bases de Gröbner"
   ]
  },
  {
   "cell_type": "markdown",
   "metadata": {},
   "source": [
    "#### Series"
   ]
  },
  {
   "cell_type": "code",
   "execution_count": 521,
   "metadata": {},
   "outputs": [
    {
     "data": {
      "image/png": "[encoded data removed]",
      "text/latex": [
       "$$1 + x + \\frac{x^{2}}{2} + \\frac{x^{3}}{6} + \\frac{x^{4}}{24} + \\mathcal{O}\\left(x^{5}\\right)$$"
      ],
      "text/plain": [
       "         2    3    4        \n",
       "        x    x    x     ⎛ 5⎞\n",
       "1 + x + ── + ── + ── + O⎝x ⎠\n",
       "        2    6    24        "
      ]
     },
     "execution_count": 521,
     "metadata": {},
     "output_type": "execute_result"
    }
   ],
   "source": [
    "exp(x).series(x,0,5) # En torno a cero, hasta el orden 5"
   ]
  },
  {
   "cell_type": "code",
   "execution_count": 522,
   "metadata": {},
   "outputs": [
    {
     "data": {
      "image/png": "[encoded data removed]",
      "text/latex": [
       "$$\\frac{1}{x} - \\frac{x}{3} - \\frac{x^{3}}{45} + \\mathcal{O}\\left(x^{5}\\right)$$"
      ],
      "text/plain": [
       "         3        \n",
       "1   x   x     ⎛ 5⎞\n",
       "─ - ─ - ── + O⎝x ⎠\n",
       "x   3   45        "
      ]
     },
     "execution_count": 522,
     "metadata": {},
     "output_type": "execute_result"
    }
   ],
   "source": [
    "cot(x).series(x,n=5)"
   ]
  },
  {
   "cell_type": "code",
   "execution_count": 523,
   "metadata": {},
   "outputs": [
    {
     "data": {
      "image/png": "[encoded data removed]",
      "text/latex": [
       "$$\\sqrt{x} - \\frac{x^{\\frac{3}{2}}}{2} - \\frac{x^{\\frac{5}{2}}}{8} - \\frac{x^{\\frac{7}{2}}}{16} - \\frac{5 x^{\\frac{9}{2}}}{128} + \\mathcal{O}\\left(x^{5}\\right)$$"
      ],
      "text/plain": [
       "      3/2    5/2    7/2      9/2        \n",
       "     x      x      x      5⋅x       ⎛ 5⎞\n",
       "√x - ──── - ──── - ──── - ────── + O⎝x ⎠\n",
       "      2      8      16     128          "
      ]
     },
     "execution_count": 523,
     "metadata": {},
     "output_type": "execute_result"
    }
   ],
   "source": [
    "sqrt(x*(1-x)).series(x,n=5)"
   ]
  },
  {
   "cell_type": "code",
   "execution_count": 524,
   "metadata": {},
   "outputs": [
    {
     "data": {
      "image/png": "[encoded data removed]",
      "text/latex": [
       "$$- \\gamma x + \\frac{\\pi^{2} x^{2}}{12} - \\frac{x^{3} \\zeta\\left(3\\right)}{3} + \\frac{\\pi^{4} x^{4}}{360} - \\frac{x^{5} \\zeta\\left(5\\right)}{5} + \\mathcal{O}\\left(x^{6}\\right)$$"
      ],
      "text/plain": [
       "        2  2    3         4  4    5             \n",
       "       π ⋅x    x ⋅ζ(3)   π ⋅x    x ⋅ζ(5)    ⎛ 6⎞\n",
       "-γ⋅x + ───── - ─────── + ───── - ─────── + O⎝x ⎠\n",
       "         12       3       360       5           "
      ]
     },
     "execution_count": 524,
     "metadata": {},
     "output_type": "execute_result"
    }
   ],
   "source": [
    "log(gamma(1+x)).series(x,n=6).rewrite(zeta)"
   ]
  },
  {
   "cell_type": "code",
   "execution_count": 525,
   "metadata": {},
   "outputs": [],
   "source": [
    "#Vamos a preparar 3 series"
   ]
  },
  {
   "cell_type": "code",
   "execution_count": 526,
   "metadata": {},
   "outputs": [
    {
     "data": {
      "image/png": "[encoded data removed]",
      "text/latex": [
       "$$x - \\frac{x^{3}}{6} + \\frac{x^{5}}{120} - \\frac{x^{7}}{5040} + \\mathcal{O}\\left(x^{8}\\right)$$"
      ],
      "text/plain": [
       "     3     5     7         \n",
       "    x     x     x      ⎛ 8⎞\n",
       "x - ── + ─── - ──── + O⎝x ⎠\n",
       "    6    120   5040        "
      ]
     },
     "execution_count": 526,
     "metadata": {},
     "output_type": "execute_result"
    }
   ],
   "source": [
    "sinx=series(sin(x),x,0,8)\n",
    "sinx"
   ]
  },
  {
   "cell_type": "code",
   "execution_count": 527,
   "metadata": {},
   "outputs": [
    {
     "data": {
      "image/png": "[encoded data removed]",
      "text/latex": [
       "$$1 - \\frac{x^{2}}{2} + \\frac{x^{4}}{24} - \\frac{x^{6}}{720} + \\mathcal{O}\\left(x^{8}\\right)$$"
      ],
      "text/plain": [
       "     2    4     6        \n",
       "    x    x     x     ⎛ 8⎞\n",
       "1 - ── + ── - ─── + O⎝x ⎠\n",
       "    2    24   720        "
      ]
     },
     "execution_count": 527,
     "metadata": {},
     "output_type": "execute_result"
    }
   ],
   "source": [
    "cosx=series(cos(x),x,n=8)\n",
    "cosx"
   ]
  },
  {
   "cell_type": "code",
   "execution_count": 528,
   "metadata": {},
   "outputs": [
    {
     "data": {
      "image/png": "[encoded data removed]",
      "text/latex": [
       "$$x + \\frac{x^{3}}{3} + \\frac{2 x^{5}}{15} + \\frac{17 x^{7}}{315} + \\mathcal{O}\\left(x^{8}\\right)$$"
      ],
      "text/plain": [
       "     3      5       7        \n",
       "    x    2⋅x    17⋅x     ⎛ 8⎞\n",
       "x + ── + ──── + ───── + O⎝x ⎠\n",
       "    3     15     315         "
      ]
     },
     "execution_count": 528,
     "metadata": {},
     "output_type": "execute_result"
    }
   ],
   "source": [
    "tanx=series(tan(x),x,n=8)\n",
    "tanx"
   ]
  },
  {
   "cell_type": "code",
   "execution_count": 529,
   "metadata": {},
   "outputs": [
    {
     "data": {
      "image/png": "[encoded data removed]",
      "text/latex": [
       "$$x - \\frac{x^{3}}{6} + \\frac{x^{5}}{120} - \\frac{x^{7}}{5040} + \\mathcal{O}\\left(x^{8}\\right)$$"
      ],
      "text/plain": [
       "     3     5     7         \n",
       "    x     x     x      ⎛ 8⎞\n",
       "x - ── + ─── - ──── + O⎝x ⎠\n",
       "    6    120   5040        "
      ]
     },
     "execution_count": 529,
     "metadata": {},
     "output_type": "execute_result"
    }
   ],
   "source": [
    "series(tanx*cosx,n=8) # La serie de la tangente por el coseno es la del seno"
   ]
  },
  {
   "cell_type": "code",
   "execution_count": 530,
   "metadata": {},
   "outputs": [
    {
     "data": {
      "image/png": "[encoded data removed]",
      "text/latex": [
       "$$x + \\frac{x^{3}}{3} + \\frac{2 x^{5}}{15} + \\frac{17 x^{7}}{315} + \\mathcal{O}\\left(x^{8}\\right)$$"
      ],
      "text/plain": [
       "     3      5       7        \n",
       "    x    2⋅x    17⋅x     ⎛ 8⎞\n",
       "x + ── + ──── + ───── + O⎝x ⎠\n",
       "    3     15     315         "
      ]
     },
     "execution_count": 530,
     "metadata": {},
     "output_type": "execute_result"
    }
   ],
   "source": [
    "series(sinx/cosx,n=8)"
   ]
  },
  {
   "cell_type": "code",
   "execution_count": 531,
   "metadata": {},
   "outputs": [],
   "source": [
    "# series(sinx**2+cosx**2,n=9) Error"
   ]
  },
  {
   "cell_type": "code",
   "execution_count": 532,
   "metadata": {},
   "outputs": [
    {
     "data": {
      "image/png": "[encoded data removed]",
      "text/latex": [
       "$$1 + \\mathcal{O}\\left(x^{8}\\right)$$"
      ],
      "text/plain": [
       "     ⎛ 8⎞\n",
       "1 + O⎝x ⎠"
      ]
     },
     "execution_count": 532,
     "metadata": {},
     "output_type": "execute_result"
    }
   ],
   "source": [
    "series(sinx**2+cosx**2,n=8) # Solo tenemos de precision hasta el orden 8"
   ]
  },
  {
   "cell_type": "code",
   "execution_count": 533,
   "metadata": {},
   "outputs": [],
   "source": [
    "# Las series se pueden derivar e integrar"
   ]
  },
  {
   "cell_type": "code",
   "execution_count": 534,
   "metadata": {},
   "outputs": [
    {
     "data": {
      "image/png": "[encoded data removed]",
      "text/latex": [
       "$$1 - \\frac{x^{2}}{2} + \\frac{x^{4}}{24} - \\frac{x^{6}}{720} + \\mathcal{O}\\left(x^{7}\\right)$$"
      ],
      "text/plain": [
       "     2    4     6        \n",
       "    x    x     x     ⎛ 7⎞\n",
       "1 - ── + ── - ─── + O⎝x ⎠\n",
       "    2    24   720        "
      ]
     },
     "execution_count": 534,
     "metadata": {},
     "output_type": "execute_result"
    }
   ],
   "source": [
    "diff(sinx,x)"
   ]
  },
  {
   "cell_type": "code",
   "execution_count": 535,
   "metadata": {},
   "outputs": [
    {
     "data": {
      "image/png": "[encoded data removed]",
      "text/latex": [
       "$$x - \\frac{x^{3}}{6} + \\frac{x^{5}}{120} - \\frac{x^{7}}{5040} + \\mathcal{O}\\left(x^{9}\\right)$$"
      ],
      "text/plain": [
       "     3     5     7         \n",
       "    x     x     x      ⎛ 9⎞\n",
       "x - ── + ─── - ──── + O⎝x ⎠\n",
       "    6    120   5040        "
      ]
     },
     "execution_count": 535,
     "metadata": {},
     "output_type": "execute_result"
    }
   ],
   "source": [
    "integrate(cosx,x)"
   ]
  },
  {
   "cell_type": "code",
   "execution_count": 536,
   "metadata": {},
   "outputs": [],
   "source": [
    "# No se pueden sustituir valores numericos en una serie. Para ello hay que eliminar\n",
    "# el ultimo orden de la serie, para convertirla en un polinomio"
   ]
  },
  {
   "cell_type": "code",
   "execution_count": 537,
   "metadata": {},
   "outputs": [
    {
     "data": {
      "image/png": "[encoded data removed]",
      "text/latex": [
       "$$- \\frac{x^{7}}{5040} + \\frac{x^{5}}{120} - \\frac{x^{3}}{6} + x$$"
      ],
      "text/plain": [
       "    7      5    3    \n",
       "   x      x    x     \n",
       "- ──── + ─── - ── + x\n",
       "  5040   120   6     "
      ]
     },
     "execution_count": 537,
     "metadata": {},
     "output_type": "execute_result"
    }
   ],
   "source": [
    "sinx.removeO()"
   ]
  },
  {
   "cell_type": "markdown",
   "metadata": {},
   "source": [
    "#### Derivadas"
   ]
  },
  {
   "cell_type": "code",
   "execution_count": 538,
   "metadata": {},
   "outputs": [
    {
     "data": {
      "image/png": "[encoded data removed]",
      "text/latex": [
       "$$x \\cos{\\left (x + y \\right )} + \\sin{\\left (x + y \\right )}$$"
      ],
      "text/plain": [
       "x⋅cos(x + y) + sin(x + y)"
      ]
     },
     "execution_count": 538,
     "metadata": {},
     "output_type": "execute_result"
    }
   ],
   "source": [
    "a=x*sin(x+y)\n",
    "diff(a,x)"
   ]
  },
  {
   "cell_type": "code",
   "execution_count": 539,
   "metadata": {},
   "outputs": [
    {
     "data": {
      "image/png": "[encoded data removed]",
      "text/latex": [
       "$$x \\cos{\\left (x + y \\right )}$$"
      ],
      "text/plain": [
       "x⋅cos(x + y)"
      ]
     },
     "execution_count": 539,
     "metadata": {},
     "output_type": "execute_result"
    }
   ],
   "source": [
    "diff(a,y)"
   ]
  },
  {
   "cell_type": "code",
   "execution_count": 540,
   "metadata": {},
   "outputs": [
    {
     "data": {
      "image/png": "[encoded data removed]",
      "text/latex": [
       "$$- (x \\cos{\\left (x + y \\right )} + 2 \\sin{\\left (x + y \\right )})$$"
      ],
      "text/plain": [
       "-(x⋅cos(x + y) + 2⋅sin(x + y))"
      ]
     },
     "execution_count": 540,
     "metadata": {},
     "output_type": "execute_result"
    }
   ],
   "source": [
    "diff(a,x,2,y) # La segunda derivada de x y la primera de y"
   ]
  },
  {
   "cell_type": "code",
   "execution_count": 541,
   "metadata": {},
   "outputs": [
    {
     "data": {
      "text/latex": [
       "$$2 x^{2} \\left. \\frac{d}{d \\xi_{1}} f{\\left (\\xi_{1} \\right )} \\right|_{\\substack{ \\xi_{1}=x^{2} }} + f{\\left (x^{2} \\right )}$$"
      ],
      "text/plain": [
       "   2 ⎛ d        ⎞│         ⎛ 2⎞\n",
       "2⋅x ⋅⎜───(f(ξ₁))⎟│    2 + f⎝x ⎠\n",
       "     ⎝dξ₁       ⎠│ξ₁=x         "
      ]
     },
     "execution_count": 541,
     "metadata": {},
     "output_type": "execute_result"
    }
   ],
   "source": [
    "a=x*f(x**2) # Se pueden derivar funciones de manera implicita\n",
    "b=diff(a,x)\n",
    "b"
   ]
  },
  {
   "cell_type": "code",
   "execution_count": 542,
   "metadata": {},
   "outputs": [],
   "source": [
    "# Para evaluar las derivadas de manera explicita, utilizamos la funcion doit"
   ]
  },
  {
   "cell_type": "code",
   "execution_count": 543,
   "metadata": {},
   "outputs": [
    {
     "data": {
      "image/png": "[encoded data removed]",
      "text/latex": [
       "$$\\frac{d}{d x} \\sin{\\left (x \\right )}$$"
      ],
      "text/plain": [
       "d         \n",
       "──(sin(x))\n",
       "dx        "
      ]
     },
     "execution_count": 543,
     "metadata": {},
     "output_type": "execute_result"
    }
   ],
   "source": [
    "a=Derivative(sin(x),x)\n",
    "a"
   ]
  },
  {
   "cell_type": "code",
   "execution_count": 544,
   "metadata": {},
   "outputs": [
    {
     "data": {
      "image/png": "[encoded data removed]",
      "text/latex": [
       "$$\\frac{d}{d x} \\sin{\\left (x \\right )} = \\cos{\\left (x \\right )}$$"
      ],
      "text/plain": [
       "d                  \n",
       "──(sin(x)) = cos(x)\n",
       "dx                 "
      ]
     },
     "execution_count": 544,
     "metadata": {},
     "output_type": "execute_result"
    }
   ],
   "source": [
    "Eq(a,a.doit())"
   ]
  },
  {
   "cell_type": "markdown",
   "metadata": {},
   "source": [
    "#### Integrales"
   ]
  },
  {
   "cell_type": "code",
   "execution_count": 545,
   "metadata": {},
   "outputs": [
    {
     "data": {
      "image/png": "[encoded data removed]",
      "text/latex": [
       "$$\\frac{1}{4} \\log{\\left (x \\right )} - \\frac{1}{8} \\log{\\left (x^{2} - 2 \\right )} - \\frac{1}{4 x^{2} - 8}$$"
      ],
      "text/plain": [
       "            ⎛ 2    ⎞           \n",
       "log(x)   log⎝x  - 2⎠      1    \n",
       "────── - ─────────── - ────────\n",
       "  4           8           2    \n",
       "                       4⋅x  - 8"
      ]
     },
     "execution_count": 545,
     "metadata": {},
     "output_type": "execute_result"
    }
   ],
   "source": [
    "integrate(1/(x*(x**2-2)**2),x) #Tenemos que definir sobre que variable integramos"
   ]
  },
  {
   "cell_type": "code",
   "execution_count": 546,
   "metadata": {},
   "outputs": [
    {
     "data": {
      "image/png": "[encoded data removed]",
      "text/latex": [
       "$$x - \\log{\\left (e^{x} + 1 \\right )}$$"
      ],
      "text/plain": [
       "       ⎛ x    ⎞\n",
       "x - log⎝ℯ  + 1⎠"
      ]
     },
     "execution_count": 546,
     "metadata": {},
     "output_type": "execute_result"
    }
   ],
   "source": [
    "integrate(1/(exp(x)+1),x)"
   ]
  },
  {
   "cell_type": "code",
   "execution_count": 547,
   "metadata": {},
   "outputs": [
    {
     "data": {
      "image/png": "[encoded data removed]",
      "text/latex": [
       "$$x \\log{\\left (x \\right )} - x$$"
      ],
      "text/plain": [
       "x⋅log(x) - x"
      ]
     },
     "execution_count": 547,
     "metadata": {},
     "output_type": "execute_result"
    }
   ],
   "source": [
    "integrate(log(x),x)"
   ]
  },
  {
   "cell_type": "code",
   "execution_count": 548,
   "metadata": {},
   "outputs": [
    {
     "data": {
      "image/png": "[encoded data removed]",
      "text/latex": [
       "$$- x \\cos{\\left (x \\right )} + \\sin{\\left (x \\right )}$$"
      ],
      "text/plain": [
       "-x⋅cos(x) + sin(x)"
      ]
     },
     "execution_count": 548,
     "metadata": {},
     "output_type": "execute_result"
    }
   ],
   "source": [
    "integrate(x*sin(x),x)"
   ]
  },
  {
   "cell_type": "code",
   "execution_count": 549,
   "metadata": {},
   "outputs": [
    {
     "data": {
      "image/png": "[encoded data removed]",
      "text/latex": [
       "$$- \\frac{e^{- x^{2}}}{2}$$"
      ],
      "text/plain": [
       "    2 \n",
       "  -x  \n",
       "-ℯ    \n",
       "──────\n",
       "  2   "
      ]
     },
     "execution_count": 549,
     "metadata": {},
     "output_type": "execute_result"
    }
   ],
   "source": [
    "integrate(x*exp(-x**2),x)"
   ]
  },
  {
   "cell_type": "code",
   "execution_count": 550,
   "metadata": {},
   "outputs": [
    {
     "data": {
      "image/png": "[encoded data removed]",
      "text/latex": [
       "$$\\int x^{x}\\, dx$$"
      ],
      "text/plain": [
       "⌠      \n",
       "⎮  x   \n",
       "⎮ x  dx\n",
       "⌡      "
      ]
     },
     "execution_count": 550,
     "metadata": {},
     "output_type": "execute_result"
    }
   ],
   "source": [
    "a=integrate(x**x,x)\n",
    "a"
   ]
  },
  {
   "cell_type": "code",
   "execution_count": 551,
   "metadata": {},
   "outputs": [
    {
     "name": "stdout",
     "output_type": "stream",
     "text": [
      "Integral(x**x, x)\n"
     ]
    }
   ],
   "source": [
    "print(a)"
   ]
  },
  {
   "cell_type": "code",
   "execution_count": 552,
   "metadata": {},
   "outputs": [
    {
     "data": {
      "image/png": "[encoded data removed]",
      "text/latex": [
       "$$\\int \\sin{\\left (x \\right )}\\, dx = - \\cos{\\left (x \\right )}$$"
      ],
      "text/plain": [
       "⌠                    \n",
       "⎮ sin(x) dx = -cos(x)\n",
       "⌡                    "
      ]
     },
     "execution_count": 552,
     "metadata": {},
     "output_type": "execute_result"
    }
   ],
   "source": [
    "a=Integral(sin(x),x)\n",
    "Eq(a,a.doit())"
   ]
  },
  {
   "cell_type": "code",
   "execution_count": 553,
   "metadata": {},
   "outputs": [
    {
     "data": {
      "image/png": "[encoded data removed]",
      "text/latex": [
       "$$2$$"
      ],
      "text/plain": [
       "2"
      ]
     },
     "execution_count": 553,
     "metadata": {},
     "output_type": "execute_result"
    }
   ],
   "source": [
    "integrate(sin(x),(x,0,pi))"
   ]
  },
  {
   "cell_type": "code",
   "execution_count": 554,
   "metadata": {},
   "outputs": [
    {
     "data": {
      "image/png": "[encoded data removed]",
      "text/latex": [
       "$$\\frac{\\sqrt{\\pi}}{2}$$"
      ],
      "text/plain": [
       "√π\n",
       "──\n",
       "2 "
      ]
     },
     "execution_count": 554,
     "metadata": {},
     "output_type": "execute_result"
    }
   ],
   "source": [
    "integrate(exp(-x**2),(x,0,oo))"
   ]
  },
  {
   "cell_type": "markdown",
   "metadata": {},
   "source": [
    "#### Suma de series"
   ]
  },
  {
   "cell_type": "code",
   "execution_count": 555,
   "metadata": {},
   "outputs": [
    {
     "data": {
      "image/png": "[encoded data removed]",
      "text/latex": [
       "$$\\frac{\\pi^{2}}{6}$$"
      ],
      "text/plain": [
       " 2\n",
       "π \n",
       "──\n",
       "6 "
      ]
     },
     "execution_count": 555,
     "metadata": {},
     "output_type": "execute_result"
    }
   ],
   "source": [
    "summation(1/n**2,(n,1,oo)) # oo significa infinito"
   ]
  },
  {
   "cell_type": "code",
   "execution_count": 556,
   "metadata": {},
   "outputs": [
    {
     "data": {
      "image/png": "[encoded data removed]",
      "text/latex": [
       "$$\\operatorname{Li}_{2}\\left(e^{i \\pi}\\right)$$"
      ],
      "text/plain": [
       "       ⎛    ⅈ⋅π⎞\n",
       "polylog⎝2, ℯ   ⎠"
      ]
     },
     "execution_count": 556,
     "metadata": {},
     "output_type": "execute_result"
    }
   ],
   "source": [
    "summation((-1)**n/n**2,(n,1,oo))"
   ]
  },
  {
   "cell_type": "code",
   "execution_count": 557,
   "metadata": {},
   "outputs": [
    {
     "data": {
      "image/png": "[encoded data removed]",
      "text/latex": [
       "$$\\frac{\\pi^{4}}{90}$$"
      ],
      "text/plain": [
       " 4\n",
       "π \n",
       "──\n",
       "90"
      ]
     },
     "execution_count": 557,
     "metadata": {},
     "output_type": "execute_result"
    }
   ],
   "source": [
    "summation(1/n**4,(n,1,oo))"
   ]
  },
  {
   "cell_type": "code",
   "execution_count": 558,
   "metadata": {},
   "outputs": [
    {
     "data": {
      "image/png": "[encoded data removed]",
      "text/latex": [
       "$$\\sum_{n=0}^{\\infty} \\frac{x^{n}}{n!} = e^{x}$$"
      ],
      "text/plain": [
       "  ∞          \n",
       " ____        \n",
       " ╲           \n",
       "  ╲    n     \n",
       "   ╲  x     x\n",
       "   ╱  ── = ℯ \n",
       "  ╱   n!     \n",
       " ╱           \n",
       " ‾‾‾‾        \n",
       "n = 0        "
      ]
     },
     "execution_count": 558,
     "metadata": {},
     "output_type": "execute_result"
    }
   ],
   "source": [
    "a=Sum(x**n/factorial(n),(n,0,oo))\n",
    "Eq(a,a.doit())"
   ]
  },
  {
   "cell_type": "markdown",
   "metadata": {},
   "source": [
    "#### Limites"
   ]
  },
  {
   "cell_type": "code",
   "execution_count": 559,
   "metadata": {},
   "outputs": [
    {
     "data": {
      "image/png": "[encoded data removed]",
      "text/latex": [
       "$$\\frac{1}{30}$$"
      ],
      "text/plain": [
       "1/30"
      ]
     },
     "execution_count": 559,
     "metadata": {},
     "output_type": "execute_result"
    }
   ],
   "source": [
    "limit((tan(sin(x))-sin(tan(x)))/x**7,x,0)"
   ]
  },
  {
   "cell_type": "code",
   "execution_count": 560,
   "metadata": {},
   "outputs": [
    {
     "data": {
      "image/png": "[encoded data removed]",
      "text/latex": [
       "$$\\frac{1}{30}$$"
      ],
      "text/plain": [
       "1/30"
      ]
     },
     "execution_count": 560,
     "metadata": {},
     "output_type": "execute_result"
    }
   ],
   "source": [
    "limit((tan(sin(x))-sin(tan(x)))/(x**7+exp(-1/x)),x,0)"
   ]
  },
  {
   "cell_type": "code",
   "execution_count": 561,
   "metadata": {},
   "outputs": [
    {
     "data": {
      "image/png": "[encoded data removed]",
      "text/latex": [
       "$$\\frac{1}{30}$$"
      ],
      "text/plain": [
       "1/30"
      ]
     },
     "execution_count": 561,
     "metadata": {},
     "output_type": "execute_result"
    }
   ],
   "source": [
    "limit((tan(sin(x))-sin(tan(x)))/(x**7+exp(-1/x)),x,0)"
   ]
  },
  {
   "cell_type": "markdown",
   "metadata": {},
   "source": [
    "#### Ecuaciones diferenciales"
   ]
  },
  {
   "cell_type": "code",
   "execution_count": 562,
   "metadata": {},
   "outputs": [],
   "source": [
    "t=Symbol('t')\n",
    "x=Function('x')\n",
    "p=Function('p')"
   ]
  },
  {
   "cell_type": "code",
   "execution_count": 563,
   "metadata": {},
   "outputs": [
    {
     "data": {
      "image/png": "[encoded data removed]",
      "text/latex": [
       "$$x{\\left (t \\right )} = C_{1} e^{- t}$$"
      ],
      "text/plain": [
       "           -t\n",
       "x(t) = C₁⋅ℯ  "
      ]
     },
     "execution_count": 563,
     "metadata": {},
     "output_type": "execute_result"
    }
   ],
   "source": [
    "dsolve(diff(x(t),t)+x(t),x(t))"
   ]
  },
  {
   "cell_type": "code",
   "execution_count": 564,
   "metadata": {},
   "outputs": [
    {
     "data": {
      "image/png": "[encoded data removed]",
      "text/latex": [
       "$$x{\\left (t \\right )} = C_{1} \\sin{\\left (t \\right )} + C_{2} \\cos{\\left (t \\right )}$$"
      ],
      "text/plain": [
       "x(t) = C₁⋅sin(t) + C₂⋅cos(t)"
      ]
     },
     "execution_count": 564,
     "metadata": {},
     "output_type": "execute_result"
    }
   ],
   "source": [
    "dsolve(diff(x(t),t,2)+x(t),x(t))"
   ]
  },
  {
   "cell_type": "code",
   "execution_count": 565,
   "metadata": {},
   "outputs": [
    {
     "data": {
      "image/png": "[encoded data removed]",
      "text/latex": [
       "$$\\left [ x{\\left (t \\right )} = C_{1} \\sin{\\left (t \\right )} + C_{2} \\cos{\\left (t \\right )}, \\quad p{\\left (t \\right )} = C_{1} \\cos{\\left (t \\right )} - C_{2} \\sin{\\left (t \\right )}\\right ]$$"
      ],
      "text/plain": [
       "[x(t) = C₁⋅sin(t) + C₂⋅cos(t), p(t) = C₁⋅cos(t) - C₂⋅sin(t)]"
      ]
     },
     "execution_count": 565,
     "metadata": {},
     "output_type": "execute_result"
    }
   ],
   "source": [
    "dsolve((diff(x(t),t)-p(t),diff(p(t),t)+x(t)))"
   ]
  },
  {
   "cell_type": "markdown",
   "metadata": {},
   "source": [
    "#### Algebra lineal"
   ]
  },
  {
   "cell_type": "code",
   "execution_count": 566,
   "metadata": {},
   "outputs": [
    {
     "data": {
      "text/latex": [
       "$$\\left[\\begin{matrix}a & b & c\\\\d & e & f\\end{matrix}\\right]$$"
      ],
      "text/plain": [
       "⎡a  b  c⎤\n",
       "⎢       ⎥\n",
       "⎣d  e  f⎦"
      ]
     },
     "execution_count": 566,
     "metadata": {},
     "output_type": "execute_result"
    }
   ],
   "source": [
    "a,b,c,d,e,f=symbols('a b c d e f')\n",
    "\n",
    "M=Matrix([[a,b,c],[d,e,f]])\n",
    "M"
   ]
  },
  {
   "cell_type": "code",
   "execution_count": 567,
   "metadata": {},
   "outputs": [
    {
     "data": {
      "image/png": "[encoded data removed]",
      "text/latex": [
       "$$\\left ( 2, \\quad 3\\right )$$"
      ],
      "text/plain": [
       "(2, 3)"
      ]
     },
     "execution_count": 567,
     "metadata": {},
     "output_type": "execute_result"
    }
   ],
   "source": [
    "M.shape #Nos devuelve la forma de la matriz en formato (fila, columna)"
   ]
  },
  {
   "cell_type": "code",
   "execution_count": 568,
   "metadata": {},
   "outputs": [
    {
     "data": {
      "text/latex": [
       "$$\\left[\\begin{matrix}1 & 2 & 3\\end{matrix}\\right]$$"
      ],
      "text/plain": [
       "[1  2  3]"
      ]
     },
     "execution_count": 568,
     "metadata": {},
     "output_type": "execute_result"
    }
   ],
   "source": [
    "Matrix([[1,2,3]])"
   ]
  },
  {
   "cell_type": "code",
   "execution_count": 569,
   "metadata": {},
   "outputs": [
    {
     "data": {
      "text/latex": [
       "$$\\left[\\begin{matrix}1 & \\frac{1}{2} & \\frac{1}{3}\\\\\\frac{1}{2} & \\frac{1}{3} & \\frac{1}{4}\\\\\\frac{1}{3} & \\frac{1}{4} & \\frac{1}{5}\\end{matrix}\\right]$$"
      ],
      "text/plain": [
       "⎡ 1   1/2  1/3⎤\n",
       "⎢             ⎥\n",
       "⎢1/2  1/3  1/4⎥\n",
       "⎢             ⎥\n",
       "⎣1/3  1/4  1/5⎦"
      ]
     },
     "execution_count": 569,
     "metadata": {},
     "output_type": "execute_result"
    }
   ],
   "source": [
    "def g(i,j):\n",
    "    return Rational(1,i+j+1)\n",
    "Matrix(3,3,g)\n",
    "\n",
    "# Podemos definir una matriz como una funcion"
   ]
  },
  {
   "cell_type": "code",
   "execution_count": 570,
   "metadata": {},
   "outputs": [
    {
     "data": {
      "text/latex": [
       "$$\\left[\\begin{matrix}g{\\left (0,0 \\right )} & g{\\left (0,1 \\right )} & g{\\left (0,2 \\right )}\\\\g{\\left (1,0 \\right )} & g{\\left (1,1 \\right )} & g{\\left (1,2 \\right )}\\\\g{\\left (2,0 \\right )} & g{\\left (2,1 \\right )} & g{\\left (2,2 \\right )}\\end{matrix}\\right]$$"
      ],
      "text/plain": [
       "⎡g(0, 0)  g(0, 1)  g(0, 2)⎤\n",
       "⎢                         ⎥\n",
       "⎢g(1, 0)  g(1, 1)  g(1, 2)⎥\n",
       "⎢                         ⎥\n",
       "⎣g(2, 0)  g(2, 1)  g(2, 2)⎦"
      ]
     },
     "execution_count": 570,
     "metadata": {},
     "output_type": "execute_result"
    }
   ],
   "source": [
    "g=Function('g')\n",
    "M=Matrix(3,3,g)\n",
    "M"
   ]
  },
  {
   "cell_type": "code",
   "execution_count": 571,
   "metadata": {},
   "outputs": [
    {
     "data": {
      "text/latex": [
       "$$\\left[\\begin{matrix}g{\\left (0,0 \\right )} & g{\\left (0,1 \\right )} & g{\\left (0,2 \\right )}\\\\g{\\left (1,0 \\right )} & g{\\left (1,1 \\right )} & \\frac{1}{2}\\\\g{\\left (2,0 \\right )} & g{\\left (2,1 \\right )} & g{\\left (2,2 \\right )}\\end{matrix}\\right]$$"
      ],
      "text/plain": [
       "⎡g(0, 0)  g(0, 1)  g(0, 2)⎤\n",
       "⎢                         ⎥\n",
       "⎢g(1, 0)  g(1, 1)    1/2  ⎥\n",
       "⎢                         ⎥\n",
       "⎣g(2, 0)  g(2, 1)  g(2, 2)⎦"
      ]
     },
     "execution_count": 571,
     "metadata": {},
     "output_type": "execute_result"
    }
   ],
   "source": [
    "M[1,2] = Rational(1/2)\n",
    "M"
   ]
  },
  {
   "cell_type": "code",
   "execution_count": 572,
   "metadata": {},
   "outputs": [
    {
     "data": {
      "text/latex": [
       "$$\\left[\\begin{matrix}g{\\left (1,0 \\right )} & g{\\left (1,1 \\right )} & \\frac{1}{2}\\end{matrix}\\right]$$"
      ],
      "text/plain": [
       "[g(1, 0)  g(1, 1)  1/2]"
      ]
     },
     "execution_count": 572,
     "metadata": {},
     "output_type": "execute_result"
    }
   ],
   "source": [
    "M[1,:]"
   ]
  },
  {
   "cell_type": "code",
   "execution_count": 573,
   "metadata": {},
   "outputs": [
    {
     "data": {
      "text/latex": [
       "$$\\left[\\begin{matrix}g{\\left (0,1 \\right )} & g{\\left (0,2 \\right )}\\\\g{\\left (1,1 \\right )} & \\frac{1}{2}\\end{matrix}\\right]$$"
      ],
      "text/plain": [
       "⎡g(0, 1)  g(0, 2)⎤\n",
       "⎢                ⎥\n",
       "⎣g(1, 1)    1/2  ⎦"
      ]
     },
     "execution_count": 573,
     "metadata": {},
     "output_type": "execute_result"
    }
   ],
   "source": [
    "M[0:2,1:3]"
   ]
  },
  {
   "cell_type": "code",
   "execution_count": 574,
   "metadata": {},
   "outputs": [
    {
     "data": {
      "text/latex": [
       "$$\\left[\\begin{matrix}1 & 0 & 0\\\\0 & 1 & 0\\\\0 & 0 & 1\\end{matrix}\\right]$$"
      ],
      "text/plain": [
       "⎡1  0  0⎤\n",
       "⎢       ⎥\n",
       "⎢0  1  0⎥\n",
       "⎢       ⎥\n",
       "⎣0  0  1⎦"
      ]
     },
     "execution_count": 574,
     "metadata": {},
     "output_type": "execute_result"
    }
   ],
   "source": [
    "eye(3) #Matriz identidad"
   ]
  },
  {
   "cell_type": "code",
   "execution_count": 575,
   "metadata": {},
   "outputs": [
    {
     "data": {
      "text/latex": [
       "$$\\left[\\begin{matrix}0 & 0 & 0\\\\0 & 0 & 0\\\\0 & 0 & 0\\end{matrix}\\right]$$"
      ],
      "text/plain": [
       "⎡0  0  0⎤\n",
       "⎢       ⎥\n",
       "⎢0  0  0⎥\n",
       "⎢       ⎥\n",
       "⎣0  0  0⎦"
      ]
     },
     "execution_count": 575,
     "metadata": {},
     "output_type": "execute_result"
    }
   ],
   "source": [
    "zeros(3) #Matriz de ceros"
   ]
  },
  {
   "cell_type": "code",
   "execution_count": 576,
   "metadata": {},
   "outputs": [
    {
     "data": {
      "text/latex": [
       "$$\\left[\\begin{matrix}1 & 0 & 0\\\\0 & 2 & 0\\\\0 & 0 & 3\\end{matrix}\\right]$$"
      ],
      "text/plain": [
       "⎡1  0  0⎤\n",
       "⎢       ⎥\n",
       "⎢0  2  0⎥\n",
       "⎢       ⎥\n",
       "⎣0  0  3⎦"
      ]
     },
     "execution_count": 576,
     "metadata": {},
     "output_type": "execute_result"
    }
   ],
   "source": [
    "diag(1,2,3) #Matriz diagonal"
   ]
  },
  {
   "cell_type": "code",
   "execution_count": 577,
   "metadata": {},
   "outputs": [
    {
     "data": {
      "text/latex": [
       "$$\\left[\\begin{matrix}1 & 0 & 0 & 0\\\\0 & a & 1 & 0\\\\0 & 0 & a & 0\\\\0 & 0 & 0 & 2\\end{matrix}\\right]$$"
      ],
      "text/plain": [
       "⎡1  0  0  0⎤\n",
       "⎢          ⎥\n",
       "⎢0  a  1  0⎥\n",
       "⎢          ⎥\n",
       "⎢0  0  a  0⎥\n",
       "⎢          ⎥\n",
       "⎣0  0  0  2⎦"
      ]
     },
     "execution_count": 577,
     "metadata": {},
     "output_type": "execute_result"
    }
   ],
   "source": [
    "M=Matrix([[a,1],[0,a]])\n",
    "diag(1,M,2)"
   ]
  },
  {
   "cell_type": "code",
   "execution_count": 578,
   "metadata": {},
   "outputs": [
    {
     "data": {
      "text/latex": [
       "$$\\left[\\begin{matrix}a + 1 & b + 2\\\\c + 3 & d + 4\\end{matrix}\\right]$$"
      ],
      "text/plain": [
       "⎡a + 1  b + 2⎤\n",
       "⎢            ⎥\n",
       "⎣c + 3  d + 4⎦"
      ]
     },
     "execution_count": 578,
     "metadata": {},
     "output_type": "execute_result"
    }
   ],
   "source": [
    "A=Matrix([[a,b],[c,d]])\n",
    "B=Matrix([[1,2],[3,4]])\n",
    "A+B"
   ]
  },
  {
   "cell_type": "code",
   "execution_count": 579,
   "metadata": {},
   "outputs": [
    {
     "data": {
      "text/latex": [
       "$$\\left[\\begin{matrix}\\frac{d}{a d - b c} & - \\frac{b}{a d - b c}\\\\- \\frac{c}{a d - b c} & \\frac{a}{a d - b c}\\end{matrix}\\right]$$"
      ],
      "text/plain": [
       "⎡    d         -b    ⎤\n",
       "⎢─────────  ─────────⎥\n",
       "⎢a⋅d - b⋅c  a⋅d - b⋅c⎥\n",
       "⎢                    ⎥\n",
       "⎢   -c          a    ⎥\n",
       "⎢─────────  ─────────⎥\n",
       "⎣a⋅d - b⋅c  a⋅d - b⋅c⎦"
      ]
     },
     "execution_count": 579,
     "metadata": {},
     "output_type": "execute_result"
    }
   ],
   "source": [
    "simplify(A**(-1))"
   ]
  },
  {
   "cell_type": "code",
   "execution_count": 580,
   "metadata": {},
   "outputs": [
    {
     "data": {
      "image/png": "[encoded data removed]",
      "text/latex": [
       "$$a d - b c$$"
      ],
      "text/plain": [
       "a⋅d - b⋅c"
      ]
     },
     "execution_count": 580,
     "metadata": {},
     "output_type": "execute_result"
    }
   ],
   "source": [
    "det(A) #Determinante de la matriz"
   ]
  },
  {
   "cell_type": "markdown",
   "metadata": {},
   "source": [
    "#### Autovalores y autovectores"
   ]
  },
  {
   "cell_type": "code",
   "execution_count": 581,
   "metadata": {},
   "outputs": [],
   "source": [
    "x=Symbol('x',real=True)"
   ]
  },
  {
   "cell_type": "code",
   "execution_count": 582,
   "metadata": {},
   "outputs": [
    {
     "data": {
      "text/latex": [
       "$$\\left[\\begin{matrix}\\left(- x + 1\\right)^{3} \\left(x + 3\\right) & 4 x \\left(- x^{2} + 1\\right) & \\left(- x + 3\\right) \\left(2 x^{2} - 2\\right)\\\\4 x \\left(- x^{2} + 1\\right) & - \\left(- x + 3\\right) \\left(x + 1\\right)^{3} & \\left(x + 3\\right) \\left(- 2 x^{2} + 2\\right)\\\\\\left(- x + 3\\right) \\left(2 x^{2} - 2\\right) & \\left(x + 3\\right) \\left(- 2 x^{2} + 2\\right) & 16 x\\end{matrix}\\right]$$"
      ],
      "text/plain": [
       "⎡         3                  ⎛   2    ⎞              ⎛   2    ⎞ ⎤\n",
       "⎢ (-x + 1) ⋅(x + 3)      4⋅x⋅⎝- x  + 1⎠     (-x + 3)⋅⎝2⋅x  - 2⎠ ⎥\n",
       "⎢                                                               ⎥\n",
       "⎢      ⎛   2    ⎞                       3           ⎛     2    ⎞⎥\n",
       "⎢  4⋅x⋅⎝- x  + 1⎠      -(-x + 3)⋅(x + 1)    (x + 3)⋅⎝- 2⋅x  + 2⎠⎥\n",
       "⎢                                                               ⎥\n",
       "⎢         ⎛   2    ⎞          ⎛     2    ⎞                      ⎥\n",
       "⎣(-x + 3)⋅⎝2⋅x  - 2⎠  (x + 3)⋅⎝- 2⋅x  + 2⎠          16⋅x        ⎦"
      ]
     },
     "execution_count": 582,
     "metadata": {},
     "output_type": "execute_result"
    }
   ],
   "source": [
    "M=Matrix([[(1-x)**3*(3+x),4*x*(1-x**2),-2*(1-x**2)*(3-x)],\n",
    "          [4*x*(1-x**2),-(1+x)**3*(3-x),2*(1-x**2)*(3+x)],\n",
    "          [-2*(1-x**2)*(3-x),2*(1-x**2)*(3+x),16*x]])\n",
    "M"
   ]
  },
  {
   "cell_type": "code",
   "execution_count": 583,
   "metadata": {},
   "outputs": [
    {
     "data": {
      "image/png": "[encoded data removed]",
      "text/latex": [
       "$$- 256 x^{3} \\left(- x^{2} + 1\\right)^{2} - 16 x \\left(- x + 1\\right)^{3} \\left(- x + 3\\right) \\left(x + 1\\right)^{3} \\left(x + 3\\right) + 8 x \\left(- x + 3\\right) \\left(x + 3\\right) \\left(- 2 x^{2} + 2\\right) \\left(- x^{2} + 1\\right) \\left(2 x^{2} - 2\\right) - \\left(- x + 1\\right)^{3} \\left(x + 3\\right)^{3} \\left(- 2 x^{2} + 2\\right)^{2} + \\left(- x + 3\\right)^{3} \\left(x + 1\\right)^{3} \\left(2 x^{2} - 2\\right)^{2}$$"
      ],
      "text/plain": [
       "                   2                                                          \n",
       "       3 ⎛   2    ⎞                 3                 3                       \n",
       "- 256⋅x ⋅⎝- x  + 1⎠  - 16⋅x⋅(-x + 1) ⋅(-x + 3)⋅(x + 1) ⋅(x + 3) + 8⋅x⋅(-x + 3)\n",
       "\n",
       "                                                                             2\n",
       "         ⎛     2    ⎞ ⎛   2    ⎞ ⎛   2    ⎞           3        3 ⎛     2    ⎞ \n",
       "⋅(x + 3)⋅⎝- 2⋅x  + 2⎠⋅⎝- x  + 1⎠⋅⎝2⋅x  - 2⎠ - (-x + 1) ⋅(x + 3) ⋅⎝- 2⋅x  + 2⎠ \n",
       "\n",
       "                                2\n",
       "           3        3 ⎛   2    ⎞ \n",
       " + (-x + 3) ⋅(x + 1) ⋅⎝2⋅x  - 2⎠ "
      ]
     },
     "execution_count": 583,
     "metadata": {},
     "output_type": "execute_result"
    }
   ],
   "source": [
    "det(M)\n",
    "# Esto significa que la matriz es una aplicacion de un subespacio el que sea a cero\n"
   ]
  },
  {
   "cell_type": "code",
   "execution_count": 584,
   "metadata": {},
   "outputs": [
    {
     "data": {
      "image/png": "[encoded data removed]",
      "text/latex": [
       "$$1$$"
      ],
      "text/plain": [
       "1"
      ]
     },
     "execution_count": 584,
     "metadata": {},
     "output_type": "execute_result"
    }
   ],
   "source": [
    "#Hallamos la base del subespacio\n",
    "\n",
    "v=M.nullspace()\n",
    "len(v)\n",
    "#En este caso es unidimensional"
   ]
  },
  {
   "cell_type": "code",
   "execution_count": 585,
   "metadata": {},
   "outputs": [
    {
     "data": {
      "text/latex": [
       "$$\\left[\\begin{matrix}- \\frac{2}{x - 1}\\\\\\frac{2}{x + 1}\\\\1\\end{matrix}\\right]$$"
      ],
      "text/plain": [
       "⎡ -2  ⎤\n",
       "⎢─────⎥\n",
       "⎢x - 1⎥\n",
       "⎢     ⎥\n",
       "⎢  2  ⎥\n",
       "⎢─────⎥\n",
       "⎢x + 1⎥\n",
       "⎢     ⎥\n",
       "⎣  1  ⎦"
      ]
     },
     "execution_count": 585,
     "metadata": {},
     "output_type": "execute_result"
    }
   ],
   "source": [
    "v=simplify(v[0])\n",
    "v"
   ]
  },
  {
   "cell_type": "code",
   "execution_count": 586,
   "metadata": {},
   "outputs": [
    {
     "data": {
      "text/latex": [
       "$$\\left[\\begin{matrix}0\\\\0\\\\0\\end{matrix}\\right]$$"
      ],
      "text/plain": [
       "⎡0⎤\n",
       "⎢ ⎥\n",
       "⎢0⎥\n",
       "⎢ ⎥\n",
       "⎣0⎦"
      ]
     },
     "execution_count": 586,
     "metadata": {},
     "output_type": "execute_result"
    }
   ],
   "source": [
    "simplify(M*v)"
   ]
  },
  {
   "cell_type": "code",
   "execution_count": 587,
   "metadata": {},
   "outputs": [
    {
     "data": {
      "image/png": "[encoded data removed]",
      "text/latex": [
       "$$\\left \\{ 0 : 1, \\quad - \\left(x^{2} + 3\\right)^{2} : 1, \\quad \\left(x^{2} + 3\\right)^{2} : 1\\right \\}$$"
      ],
      "text/plain": [
       "⎧               2             2   ⎫\n",
       "⎨       ⎛ 2    ⎞      ⎛ 2    ⎞    ⎬\n",
       "⎩0: 1, -⎝x  + 3⎠ : 1, ⎝x  + 3⎠ : 1⎭"
      ]
     },
     "execution_count": 587,
     "metadata": {},
     "output_type": "execute_result"
    }
   ],
   "source": [
    "M.eigenvals()\n",
    "# Los autovalores y sus multiplicidades"
   ]
  },
  {
   "cell_type": "code",
   "execution_count": 588,
   "metadata": {},
   "outputs": [
    {
     "data": {
      "image/png": "[encoded data removed]",
      "text/latex": [
       "$$3$$"
      ],
      "text/plain": [
       "3"
      ]
     },
     "execution_count": 588,
     "metadata": {},
     "output_type": "execute_result"
    }
   ],
   "source": [
    "v=M.eigenvects()\n",
    "len(v)"
   ]
  },
  {
   "cell_type": "code",
   "execution_count": 589,
   "metadata": {},
   "outputs": [
    {
     "data": {
      "text/latex": [
       "$$\\left [ \\left ( 0, \\quad 1, \\quad \\left [ \\left[\\begin{matrix}- \\frac{2}{x - 1}\\\\\\frac{2}{x + 1}\\\\1\\end{matrix}\\right]\\right ]\\right ), \\quad \\left ( - \\left(x^{2} + 3\\right)^{2}, \\quad 1, \\quad \\left [ \\left[\\begin{matrix}\\frac{x}{2} + \\frac{1}{2}\\\\\\frac{x + 1}{x - 1}\\\\1\\end{matrix}\\right]\\right ]\\right ), \\quad \\left ( \\left(x^{2} + 3\\right)^{2}, \\quad 1, \\quad \\left [ \\left[\\begin{matrix}\\frac{x - 1}{x + 1}\\\\- \\frac{x}{2} + \\frac{1}{2}\\\\1\\end{matrix}\\right]\\right ]\\right )\\right ]$$"
      ],
      "text/plain": [
       "⎡⎛      ⎡⎡ -2  ⎤⎤⎞  ⎛               ⎡⎡x   1⎤⎤⎞  ⎛              ⎡⎡ x - 1 ⎤⎤⎞⎤\n",
       "⎢⎜      ⎢⎢─────⎥⎥⎟  ⎜               ⎢⎢─ + ─⎥⎥⎟  ⎜              ⎢⎢ ───── ⎥⎥⎟⎥\n",
       "⎢⎜      ⎢⎢x - 1⎥⎥⎟  ⎜         2     ⎢⎢2   2⎥⎥⎟  ⎜        2     ⎢⎢ x + 1 ⎥⎥⎟⎥\n",
       "⎢⎜      ⎢⎢     ⎥⎥⎟  ⎜ ⎛ 2    ⎞      ⎢⎢     ⎥⎥⎟  ⎜⎛ 2    ⎞      ⎢⎢       ⎥⎥⎟⎥\n",
       "⎢⎜0, 1, ⎢⎢  2  ⎥⎥⎟, ⎜-⎝x  + 3⎠ , 1, ⎢⎢x + 1⎥⎥⎟, ⎜⎝x  + 3⎠ , 1, ⎢⎢  x   1⎥⎥⎟⎥\n",
       "⎢⎜      ⎢⎢─────⎥⎥⎟  ⎜               ⎢⎢─────⎥⎥⎟  ⎜              ⎢⎢- ─ + ─⎥⎥⎟⎥\n",
       "⎢⎜      ⎢⎢x + 1⎥⎥⎟  ⎜               ⎢⎢x - 1⎥⎥⎟  ⎜              ⎢⎢  2   2⎥⎥⎟⎥\n",
       "⎢⎜      ⎢⎢     ⎥⎥⎟  ⎜               ⎢⎢     ⎥⎥⎟  ⎜              ⎢⎢       ⎥⎥⎟⎥\n",
       "⎣⎝      ⎣⎣  1  ⎦⎦⎠  ⎝               ⎣⎣  1  ⎦⎦⎠  ⎝              ⎣⎣   1   ⎦⎦⎠⎦"
      ]
     },
     "execution_count": 589,
     "metadata": {},
     "output_type": "execute_result"
    }
   ],
   "source": [
    "for i in range(len(v)):\n",
    "    v[i][2][0]=simplify(v[i][2][0])\n",
    "v\n",
    "# Los autovectores"
   ]
  },
  {
   "cell_type": "code",
   "execution_count": 590,
   "metadata": {},
   "outputs": [
    {
     "name": "stdout",
     "output_type": "stream",
     "text": [
      "⎡0⎤\n",
      "⎢ ⎥\n",
      "⎢0⎥\n",
      "⎢ ⎥\n",
      "⎣0⎦\n",
      "⎡0⎤\n",
      "⎢ ⎥\n",
      "⎢0⎥\n",
      "⎢ ⎥\n",
      "⎣0⎦\n",
      "⎡0⎤\n",
      "⎢ ⎥\n",
      "⎢0⎥\n",
      "⎢ ⎥\n",
      "⎣0⎦\n"
     ]
    }
   ],
   "source": [
    "for i in range(len(v)):\n",
    "    z=M*v[i][2][0]-v[i][0]*v[i][2][0]\n",
    "    pprint(simplify(z))"
   ]
  },
  {
   "cell_type": "code",
   "execution_count": 591,
   "metadata": {},
   "outputs": [
    {
     "data": {
      "text/latex": [
       "$$\\left[\\begin{matrix}\\frac{13}{9} & - \\frac{2}{9} & \\frac{1}{3} & \\frac{4}{9} & \\frac{2}{3}\\\\- \\frac{2}{9} & \\frac{10}{9} & \\frac{2}{15} & - \\frac{2}{9} & - \\frac{11}{15}\\\\\\frac{1}{5} & - \\frac{2}{5} & \\frac{41}{25} & - \\frac{2}{5} & \\frac{12}{25}\\\\\\frac{4}{9} & - \\frac{2}{9} & \\frac{14}{15} & \\frac{13}{9} & - \\frac{2}{15}\\\\- \\frac{4}{15} & \\frac{8}{15} & \\frac{12}{25} & \\frac{8}{15} & \\frac{34}{25}\\end{matrix}\\right]$$"
      ],
      "text/plain": [
       "⎡13/9   -2/9  1/3   4/9    2/3 ⎤\n",
       "⎢                              ⎥\n",
       "⎢                         -11  ⎥\n",
       "⎢-2/9   10/9  2/15  -2/9  ──── ⎥\n",
       "⎢                          15  ⎥\n",
       "⎢                              ⎥\n",
       "⎢              41          12  ⎥\n",
       "⎢ 1/5   -2/5   ──   -2/5   ──  ⎥\n",
       "⎢              25          25  ⎥\n",
       "⎢                              ⎥\n",
       "⎢              14              ⎥\n",
       "⎢ 4/9   -2/9   ──   13/9  -2/15⎥\n",
       "⎢              15              ⎥\n",
       "⎢                              ⎥\n",
       "⎢              12          34  ⎥\n",
       "⎢-4/15  8/15   ──   8/15   ──  ⎥\n",
       "⎣              25          25  ⎦"
      ]
     },
     "execution_count": 591,
     "metadata": {},
     "output_type": "execute_result"
    }
   ],
   "source": [
    "M=Matrix([[Rational(13,9),-Rational(2,9),Rational(1,3),Rational(4,9),Rational(2,3)],\n",
    "          [-Rational(2,9),Rational(10,9),Rational(2,15),-Rational(2,9),-Rational(11,15)],\n",
    "          [Rational(1,5),-Rational(2,5),Rational(41,25),-Rational(2,5),Rational(12,25)],\n",
    "          [Rational(4,9),-Rational(2,9),Rational(14,15),Rational(13,9),-Rational(2,15)],\n",
    "          [-Rational(4,15),Rational(8,15),Rational(12,25),Rational(8,15),Rational(34,25)]])\n",
    "M"
   ]
  },
  {
   "cell_type": "code",
   "execution_count": 592,
   "metadata": {},
   "outputs": [
    {
     "data": {
      "text/latex": [
       "$$\\left[\\begin{matrix}1 & 0 & 0 & 0 & 0\\\\0 & 2 & 1 & 0 & 0\\\\0 & 0 & 2 & 0 & 0\\\\0 & 0 & 0 & 1 - i & 0\\\\0 & 0 & 0 & 0 & 1 + i\\end{matrix}\\right]$$"
      ],
      "text/plain": [
       "⎡1  0  0    0      0  ⎤\n",
       "⎢                     ⎥\n",
       "⎢0  2  1    0      0  ⎥\n",
       "⎢                     ⎥\n",
       "⎢0  0  2    0      0  ⎥\n",
       "⎢                     ⎥\n",
       "⎢0  0  0  1 - ⅈ    0  ⎥\n",
       "⎢                     ⎥\n",
       "⎣0  0  0    0    1 + ⅈ⎦"
      ]
     },
     "execution_count": 592,
     "metadata": {},
     "output_type": "execute_result"
    }
   ],
   "source": [
    "P,J=M.jordan_form()\n",
    "J\n",
    "# Funcion para obtener la diagonal "
   ]
  },
  {
   "cell_type": "code",
   "execution_count": 593,
   "metadata": {},
   "outputs": [
    {
     "data": {
      "text/latex": [
       "$$\\left[\\begin{matrix}-2 & \\frac{10}{9} & 0 & \\frac{5 i}{12} & - \\frac{5 i}{12}\\\\-2 & - \\frac{5}{9} & 0 & - \\frac{5 i}{6} & \\frac{5 i}{6}\\\\0 & 0 & \\frac{4}{3} & - \\frac{3}{4} & - \\frac{3}{4}\\\\1 & \\frac{10}{9} & 0 & - \\frac{5 i}{6} & \\frac{5 i}{6}\\\\0 & 0 & 1 & 1 & 1\\end{matrix}\\right]$$"
      ],
      "text/plain": [
       "⎡                5⋅ⅈ   -5⋅ⅈ ⎤\n",
       "⎢-2  10/9   0    ───   ─────⎥\n",
       "⎢                 12     12 ⎥\n",
       "⎢                           ⎥\n",
       "⎢               -5⋅ⅈ    5⋅ⅈ ⎥\n",
       "⎢-2  -5/9   0   ─────   ─── ⎥\n",
       "⎢                 6      6  ⎥\n",
       "⎢                           ⎥\n",
       "⎢0    0    4/3  -3/4   -3/4 ⎥\n",
       "⎢                           ⎥\n",
       "⎢               -5⋅ⅈ    5⋅ⅈ ⎥\n",
       "⎢1   10/9   0   ─────   ─── ⎥\n",
       "⎢                 6      6  ⎥\n",
       "⎢                           ⎥\n",
       "⎣0    0     1     1      1  ⎦"
      ]
     },
     "execution_count": 593,
     "metadata": {},
     "output_type": "execute_result"
    }
   ],
   "source": [
    "P=simplify(P)\n",
    "P"
   ]
  },
  {
   "cell_type": "code",
   "execution_count": 594,
   "metadata": {},
   "outputs": [
    {
     "data": {
      "text/latex": [
       "$$\\left[\\begin{matrix}0 & 0 & 0 & 0 & 0\\\\0 & 0 & 0 & 0 & 0\\\\0 & 0 & 0 & 0 & 0\\\\0 & 0 & 0 & 0 & 0\\\\0 & 0 & 0 & 0 & 0\\end{matrix}\\right]$$"
      ],
      "text/plain": [
       "⎡0  0  0  0  0⎤\n",
       "⎢             ⎥\n",
       "⎢0  0  0  0  0⎥\n",
       "⎢             ⎥\n",
       "⎢0  0  0  0  0⎥\n",
       "⎢             ⎥\n",
       "⎢0  0  0  0  0⎥\n",
       "⎢             ⎥\n",
       "⎣0  0  0  0  0⎦"
      ]
     },
     "execution_count": 594,
     "metadata": {},
     "output_type": "execute_result"
    }
   ],
   "source": [
    "Z=P*J*P**(-1)-M\n",
    "simplify(Z)"
   ]
  },
  {
   "cell_type": "markdown",
   "metadata": {},
   "source": [
    "# Plots\n",
    "SymPy uses matplotlib."
   ]
  },
  {
   "cell_type": "code",
   "execution_count": 595,
   "metadata": {},
   "outputs": [],
   "source": [
    "%matplotlib inline"
   ]
  },
  {
   "cell_type": "code",
   "execution_count": 606,
   "metadata": {},
   "outputs": [
    {
     "data": {
      "image/png": "[encoded data removed]",
      "text/plain": [
       "<Figure size 432x288 with 1 Axes>"
      ]
     },
     "metadata": {},
     "output_type": "display_data"
    },
    {
     "data": {
      "text/plain": [
       "<sympy.plotting.plot.Plot at 0x1d6ea2d2cc0>"
      ]
     },
     "execution_count": 606,
     "metadata": {},
     "output_type": "execute_result"
    }
   ],
   "source": [
    "#A single function\n",
    "plot(sin(x)/x,(x,-10,10))"
   ]
  },
  {
   "cell_type": "code",
   "execution_count": 597,
   "metadata": {},
   "outputs": [
    {
     "data": {
      "image/png": "[encoded data removed]",
      "text/plain": [
       "<Figure size 432x288 with 1 Axes>"
      ]
     },
     "metadata": {},
     "output_type": "display_data"
    },
    {
     "data": {
      "text/plain": [
       "<sympy.plotting.plot.Plot at 0x1d6e8817f60>"
      ]
     },
     "execution_count": 597,
     "metadata": {},
     "output_type": "execute_result"
    }
   ],
   "source": [
    "#Several functions.\n",
    "\n",
    "plot(x,x**2,x**3,(x,0,2))"
   ]
  },
  {
   "cell_type": "code",
   "execution_count": 598,
   "metadata": {},
   "outputs": [],
   "source": [
    "#Some additional plotting functions can be imported from sympy.plotting.\n",
    "\n",
    "from sympy.plotting import (plot_parametric,plot_implicit,\n",
    "                            plot3d,plot3d_parametric_line,\n",
    "                            plot3d_parametric_surface)"
   ]
  },
  {
   "cell_type": "code",
   "execution_count": 599,
   "metadata": {},
   "outputs": [
    {
     "data": {
      "image/png": "[encoded data removed]",
      "text/plain": [
       "<Figure size 432x288 with 1 Axes>"
      ]
     },
     "metadata": {},
     "output_type": "display_data"
    },
    {
     "data": {
      "text/plain": [
       "<sympy.plotting.plot.Plot at 0x1d6e888d6d8>"
      ]
     },
     "execution_count": 599,
     "metadata": {},
     "output_type": "execute_result"
    }
   ],
   "source": [
    "#A parametric plot - a Lissajous curve.\n",
    "\n",
    "t=Symbol('t')\n",
    "plot_parametric(sin(2*t),cos(3*t),(t,0,2*pi),title='Lissajous',xlabel='x',ylabel='y')"
   ]
  },
  {
   "cell_type": "code",
   "execution_count": 600,
   "metadata": {},
   "outputs": [
    {
     "data": {
      "image/png": "[encoded data removed]",
      "text/plain": [
       "<Figure size 432x288 with 1 Axes>"
      ]
     },
     "metadata": {},
     "output_type": "display_data"
    },
    {
     "data": {
      "text/plain": [
       "<sympy.plotting.plot.Plot at 0x1d6e888d080>"
      ]
     },
     "execution_count": 600,
     "metadata": {},
     "output_type": "execute_result"
    }
   ],
   "source": [
    "#An implicit plot - a circle.\n",
    "\n",
    "plot_implicit(x**2+y**2-1,(x,-1,1),(y,-1,1))"
   ]
  },
  {
   "cell_type": "code",
   "execution_count": 601,
   "metadata": {},
   "outputs": [
    {
     "data": {
      "image/png": "[encoded data removed]",
      "text/plain": [
       "<Figure size 432x288 with 1 Axes>"
      ]
     },
     "metadata": {},
     "output_type": "display_data"
    },
    {
     "data": {
      "text/plain": [
       "<sympy.plotting.plot.Plot at 0x1d6e888d828>"
      ]
     },
     "execution_count": 601,
     "metadata": {},
     "output_type": "execute_result"
    }
   ],
   "source": [
    "#A surface. If it is not inline but in a separaye window, you can rotate it with your mouse.\n",
    "\n",
    "plot3d(x*y,(x,-2,2),(y,-2,2))"
   ]
  },
  {
   "cell_type": "code",
   "execution_count": 602,
   "metadata": {},
   "outputs": [
    {
     "data": {
      "image/png": "[encoded data removed]",
      "text/plain": [
       "<Figure size 432x288 with 1 Axes>"
      ]
     },
     "metadata": {},
     "output_type": "display_data"
    },
    {
     "data": {
      "text/plain": [
       "<sympy.plotting.plot.Plot at 0x1d6e87d4b38>"
      ]
     },
     "execution_count": 602,
     "metadata": {},
     "output_type": "execute_result"
    }
   ],
   "source": [
    "#Several surfaces.\n",
    "\n",
    "plot3d(x**2+y**2,x*y,(x,-2,2),(y,-2,2))"
   ]
  },
  {
   "cell_type": "code",
   "execution_count": 603,
   "metadata": {},
   "outputs": [
    {
     "data": {
      "image/png": "[encoded data removed]",
      "text/plain": [
       "<Figure size 432x288 with 1 Axes>"
      ]
     },
     "metadata": {},
     "output_type": "display_data"
    },
    {
     "data": {
      "text/plain": [
       "<sympy.plotting.plot.Plot at 0x1d6e9003f98>"
      ]
     },
     "execution_count": 603,
     "metadata": {},
     "output_type": "execute_result"
    }
   ],
   "source": [
    "#A parametric space curve - a spiral.\n",
    "\n",
    "a=0.1\n",
    "plot3d_parametric_line(cos(t),sin(t),a*t,(t,0,4*pi))"
   ]
  },
  {
   "cell_type": "code",
   "execution_count": 604,
   "metadata": {},
   "outputs": [
    {
     "data": {
      "image/png": "[encoded data removed]",
      "text/plain": [
       "<Figure size 432x288 with 1 Axes>"
      ]
     },
     "metadata": {},
     "output_type": "display_data"
    },
    {
     "data": {
      "text/plain": [
       "<sympy.plotting.plot.Plot at 0x1d6e8e2fd68>"
      ]
     },
     "execution_count": 604,
     "metadata": {},
     "output_type": "execute_result"
    }
   ],
   "source": [
    "#A parametric surface - a torus.\n",
    "\n",
    "u,v=symbols('u v')\n",
    "a=0.3\n",
    "plot3d_parametric_surface((1+a*cos(u))*cos(v),\n",
    "                          (1+a*cos(u))*sin(v),a*sin(u),\n",
    "                          (u,0,2*pi),(v,0,2*pi))"
   ]
  }
 ],
 "metadata": {
  "kernelspec": {
   "display_name": "Python 3",
   "language": "python",
   "name": "python3"
  },
  "language_info": {
   "codemirror_mode": {
    "name": "ipython",
    "version": 3
   },
   "file_extension": ".py",
   "mimetype": "text/x-python",
   "name": "python",
   "nbconvert_exporter": "python",
   "pygments_lexer": "ipython3",
   "version": "3.6.5"
  }
 },
 "nbformat": 4,
 "nbformat_minor": 2
}
