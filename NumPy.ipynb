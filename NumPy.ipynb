{
 "cells": [
  {
   "cell_type": "markdown",
   "metadata": {},
   "source": [
    "# NumPy"
   ]
  },
  {
   "cell_type": "code",
   "execution_count": 29,
   "metadata": {
    "collapsed": false
   },
   "outputs": [
    {
     "data": {
      "text/plain": [
       "'1.11.3'"
      ]
     },
     "execution_count": 29,
     "metadata": {},
     "output_type": "execute_result"
    }
   ],
   "source": [
    "import numpy\n",
    "numpy.__version__"
   ]
  },
  {
   "cell_type": "code",
   "execution_count": 30,
   "metadata": {
    "collapsed": false
   },
   "outputs": [
    {
     "data": {
      "text/plain": [
       "'1.11.3'"
      ]
     },
     "execution_count": 30,
     "metadata": {},
     "output_type": "execute_result"
    }
   ],
   "source": [
    "import numpy as np\n",
    "np.__version__"
   ]
  },
  {
   "cell_type": "code",
   "execution_count": 31,
   "metadata": {
    "collapsed": false
   },
   "outputs": [
    {
     "name": "stdout",
     "output_type": "stream",
     "text": [
      "[1 2 3]\n"
     ]
    }
   ],
   "source": [
    "#creo un vector x con x1=1, x2=2 y x3=3\n",
    "x = np.array([1,2,3]) \n",
    "print(x)"
   ]
  },
  {
   "cell_type": "code",
   "execution_count": 32,
   "metadata": {
    "collapsed": false
   },
   "outputs": [
    {
     "name": "stdout",
     "output_type": "stream",
     "text": [
      "[[1 2]\n",
      " [3 4]]\n"
     ]
    }
   ],
   "source": [
    "# Más de una dimension\n",
    "a = np.array([[1, 2], [3, 4]]) \n",
    "print(a)"
   ]
  },
  {
   "cell_type": "code",
   "execution_count": 33,
   "metadata": {
    "collapsed": false
   },
   "outputs": [
    {
     "name": "stdout",
     "output_type": "stream",
     "text": [
      "[ 1.+0.j  2.+0.j  3.+0.j]\n"
     ]
    }
   ],
   "source": [
    "# números complejos\n",
    "a = np.array([1, 2, 3], dtype = complex) \n",
    "print(a)"
   ]
  },
  {
   "cell_type": "code",
   "execution_count": 34,
   "metadata": {
    "collapsed": false
   },
   "outputs": [
    {
     "name": "stdout",
     "output_type": "stream",
     "text": [
      "(2, 3)\n"
     ]
    }
   ],
   "source": [
    "#Nos da las dimensiones del array\n",
    "a = np.array([[1,2,3],[4,5,6]]) \n",
    "print (a.shape)"
   ]
  },
  {
   "cell_type": "code",
   "execution_count": 35,
   "metadata": {
    "collapsed": false
   },
   "outputs": [
    {
     "name": "stdout",
     "output_type": "stream",
     "text": [
      "[[1 2]\n",
      " [3 4]\n",
      " [5 6]]\n"
     ]
    }
   ],
   "source": [
    "# Podemos cambiar las dimensiones de un array\n",
    "a = np.array([[1,2,3],[4,5,6]]) \n",
    "b = a.reshape(3,2) \n",
    "print(b)"
   ]
  },
  {
   "cell_type": "code",
   "execution_count": 36,
   "metadata": {
    "collapsed": false
   },
   "outputs": [
    {
     "name": "stdout",
     "output_type": "stream",
     "text": [
      "[ 0.  0.  0.  0.  0.  0.  0.  0.  0.  0.]\n"
     ]
    }
   ],
   "source": [
    "#Creo un vector de ceros con 10 elementos\n",
    "z = np.zeros(10)\n",
    "print(z)"
   ]
  },
  {
   "cell_type": "code",
   "execution_count": 37,
   "metadata": {
    "collapsed": false
   },
   "outputs": [
    {
     "name": "stdout",
     "output_type": "stream",
     "text": [
      "[ 1.  1.  1.  1.  1.  1.  1.  1.  1.  1.]\n"
     ]
    }
   ],
   "source": [
    "# Creo un vector con unos\n",
    "z = np.ones(10)\n",
    "print(z)"
   ]
  },
  {
   "cell_type": "code",
   "execution_count": 38,
   "metadata": {
    "collapsed": false
   },
   "outputs": [
    {
     "name": "stdout",
     "output_type": "stream",
     "text": [
      "[[  0.   0.   0.]\n",
      " [ 10.  10.  10.]\n",
      " [ 20.  20.  20.]\n",
      " [ 30.  30.  30.]]\n",
      "[ 1.  2.  3.]\n",
      "[[  1.   2.   3.]\n",
      " [ 11.  12.  13.]\n",
      " [ 21.  22.  23.]\n",
      " [ 31.  32.  33.]]\n"
     ]
    }
   ],
   "source": [
    "# Sumo dos matrices de tamaños distintos\n",
    "a = np.array([[0.0,0.0,0.0],[10.0,10.0,10.0],[20.0,20.0,20.0],[30.0,30.0,30.0]]) \n",
    "b = np.array([1.0,2.0,3.0])  \n",
    "   \n",
    "print (a) \n",
    "print (b) \n",
    "print (a + b)"
   ]
  },
  {
   "cell_type": "code",
   "execution_count": 39,
   "metadata": {
    "collapsed": false
   },
   "outputs": [
    {
     "name": "stdout",
     "output_type": "stream",
     "text": [
      "[[ 0  1  2  3]\n",
      " [ 4  5  6  7]\n",
      " [ 8  9 10 11]]\n",
      "[[ 0  4  8]\n",
      " [ 1  5  9]\n",
      " [ 2  6 10]\n",
      " [ 3  7 11]]\n"
     ]
    }
   ],
   "source": [
    "# Trasposicion de matrices\n",
    "a = np.arange(12).reshape(3,4) \n",
    "\n",
    "print (a)  \n",
    "\n",
    "print (np.transpose(a))"
   ]
  },
  {
   "cell_type": "code",
   "execution_count": 40,
   "metadata": {
    "collapsed": false
   },
   "outputs": [
    {
     "name": "stdout",
     "output_type": "stream",
     "text": [
      "[[1 2]\n",
      " [3 4]]\n",
      "[[1 2]\n",
      " [3 4]]\n",
      "[[1 2]\n",
      " [3 4]\n",
      " [5 6]\n",
      " [7 8]]\n",
      "[[1 2 5 6]\n",
      " [3 4 7 8]]\n"
     ]
    }
   ],
   "source": [
    "# Concatenacion de matrices\n",
    "a = np.array([[1,2],[3,4]]) \n",
    "\n",
    "print(a)\n",
    "\n",
    "b = np.array([[5,6],[7,8]]) \n",
    "\n",
    "print(a)\n",
    "# Los dos tienen las mismas dimensiones\n",
    "\n",
    "print(np.concatenate((a,b))) \n",
    "\n",
    "# Concateno los arrays a lo largo de la primera dimension\n",
    "print(np.concatenate((a,b),axis = 1))"
   ]
  },
  {
   "cell_type": "code",
   "execution_count": 41,
   "metadata": {
    "collapsed": false
   },
   "outputs": [
    {
     "name": "stdout",
     "output_type": "stream",
     "text": [
      "[5 2 6 2 7 5 6 8 2 9]\n",
      "[2 5 6 7 8 9]\n",
      "[1 0 2 4 7 9]\n"
     ]
    }
   ],
   "source": [
    "# Obtener los valores no repetidos de un vector\n",
    "a = np.array([5,2,6,2,7,5,6,8,2,9]) \n",
    "\n",
    "print(a) \n",
    "\n",
    "u = np.unique(a) \n",
    "print(u) \n",
    "\n",
    "# Valores mas indices\n",
    "u,indices = np.unique(a, return_index = True) \n",
    "print(indices)"
   ]
  },
  {
   "cell_type": "code",
   "execution_count": 42,
   "metadata": {
    "collapsed": false
   },
   "outputs": [
    {
     "name": "stdout",
     "output_type": "stream",
     "text": [
      "[[1 2 3]\n",
      " [4 5 6]]\n",
      "[1 2 3 4 5 6 7 8 9]\n"
     ]
    }
   ],
   "source": [
    "a = np.array([[1,2,3],[4,5,6]]) \n",
    "\n",
    "print(a)  \n",
    "\n",
    "# Añade los elementos al final del array\n",
    "\n",
    "print(np.append(a, [7,8,9]))"
   ]
  },
  {
   "cell_type": "code",
   "execution_count": 43,
   "metadata": {
    "collapsed": false
   },
   "outputs": [
    {
     "name": "stdout",
     "output_type": "stream",
     "text": [
      "[10 12 14 16 18 20 22 24 26 28 30 32 34 36 38 40 42 44 46 48]\n"
     ]
    }
   ],
   "source": [
    "#Creo un vector con valores de 10 a 49\n",
    "\n",
    "z = np.arange(10,50,2)\n",
    "print(z)"
   ]
  },
  {
   "cell_type": "code",
   "execution_count": 44,
   "metadata": {
    "collapsed": false
   },
   "outputs": [
    {
     "name": "stdout",
     "output_type": "stream",
     "text": [
      "[ 10.   12.5  15.   17.5  20. ]\n"
     ]
    }
   ],
   "source": [
    "# Genera 5 uniformemente separados\n",
    "x = np.linspace(10,20,5) \n",
    "print(x)"
   ]
  },
  {
   "cell_type": "code",
   "execution_count": 45,
   "metadata": {
    "collapsed": false
   },
   "outputs": [
    {
     "name": "stdout",
     "output_type": "stream",
     "text": [
      "[  10.           12.91549665   16.68100537   21.5443469    27.82559402\n",
      "   35.93813664   46.41588834   59.94842503   77.42636827  100.        ]\n"
     ]
    }
   ],
   "source": [
    "# En base 10\n",
    "a = np.logspace(1.0, 2.0, num = 10) \n",
    "print(a)"
   ]
  },
  {
   "cell_type": "code",
   "execution_count": 46,
   "metadata": {
    "collapsed": false
   },
   "outputs": [
    {
     "name": "stdout",
     "output_type": "stream",
     "text": [
      "[ 0.  0.  0.  0.  1.  0.  0.  0.  0.  0.]\n"
     ]
    }
   ],
   "source": [
    "#La mayor parte del tiempo una lista y un np.array comparten atributos\n",
    "z = np.zeros(10)\n",
    "z[4] = 1\n",
    "print(z)"
   ]
  },
  {
   "cell_type": "code",
   "execution_count": 47,
   "metadata": {
    "collapsed": false
   },
   "outputs": [
    {
     "name": "stdout",
     "output_type": "stream",
     "text": [
      "[[0 1 2]\n",
      " [3 4 5]\n",
      " [6 7 8]]\n"
     ]
    }
   ],
   "source": [
    "#Creo una matriz 3x3 de valores que van del 0 al 8\n",
    "Z = np.arange(9).reshape(3,3)\n",
    "print(Z)"
   ]
  },
  {
   "cell_type": "code",
   "execution_count": 48,
   "metadata": {
    "collapsed": false
   },
   "outputs": [
    {
     "name": "stdout",
     "output_type": "stream",
     "text": [
      "(array([0, 1, 4]),)\n"
     ]
    }
   ],
   "source": [
    "nz = np.nonzero([1,2,0,0,4,0])\n",
    "print(nz)"
   ]
  },
  {
   "cell_type": "code",
   "execution_count": 49,
   "metadata": {
    "collapsed": false
   },
   "outputs": [
    {
     "name": "stdout",
     "output_type": "stream",
     "text": [
      "[[ 1.  0.  0.]\n",
      " [ 0.  1.  0.]\n",
      " [ 0.  0.  1.]]\n"
     ]
    }
   ],
   "source": [
    "#Matriz identidad 3x3\n",
    "Z = np.eye(3)\n",
    "print(Z)"
   ]
  },
  {
   "cell_type": "code",
   "execution_count": 50,
   "metadata": {
    "collapsed": false
   },
   "outputs": [
    {
     "name": "stdout",
     "output_type": "stream",
     "text": [
      "[[ 0.73072625  0.30028512  0.57963391  0.39589532  0.87571918  0.14653512\n",
      "   0.14580338  0.74060122  0.31784927  0.2821258 ]\n",
      " [ 0.69115565  0.13846959  0.41001545  0.62232417  0.411867    0.29932168\n",
      "   0.39850492  0.1470514   0.94153223  0.35992703]\n",
      " [ 0.28209105  0.42815686  0.31269656  0.01608607  0.05355166  0.78354997\n",
      "   0.09408028  0.21166528  0.51351172  0.60650132]\n",
      " [ 0.77895374  0.26929751  0.99563522  0.0835823   0.77773681  0.5071569\n",
      "   0.17339882  0.62502017  0.06301642  0.09952065]\n",
      " [ 0.53327738  0.99868314  0.48792076  0.56766     0.64255498  0.40893408\n",
      "   0.79512893  0.94367538  0.17143301  0.24915125]\n",
      " [ 0.93981199  0.1420194   0.12303712  0.25770298  0.25252607  0.07746368\n",
      "   0.53003882  0.24906706  0.03893263  0.19887963]\n",
      " [ 0.22560216  0.73859311  0.77887205  0.98981076  0.10876537  0.34666082\n",
      "   0.85682757  0.6685995   0.01930859  0.25055885]\n",
      " [ 0.73270555  0.3364664   0.56234879  0.07432522  0.05377195  0.63825288\n",
      "   0.16578712  0.46929211  0.58949736  0.1327559 ]\n",
      " [ 0.20453734  0.76255862  0.20700865  0.89928103  0.39609485  0.37174981\n",
      "   0.86545306  0.35458947  0.44975238  0.99110006]\n",
      " [ 0.65067831  0.77746405  0.5183921   0.49271023  0.74618274  0.80201496\n",
      "   0.45076184  0.51034689  0.84504339  0.94832755]]\n"
     ]
    }
   ],
   "source": [
    "# Creo una matriz 10x10 de numeros aleatorios\n",
    "Z = np.random.random((10,10))\n",
    "print(Z)"
   ]
  },
  {
   "cell_type": "code",
   "execution_count": 51,
   "metadata": {
    "collapsed": false
   },
   "outputs": [
    {
     "data": {
      "text/plain": [
       "array([[-1.00466604,  0.46061033, -0.88162304],\n",
       "       [ 0.78752736,  0.65859662,  0.2511121 ],\n",
       "       [ 0.12228045,  0.76622763,  0.39166921]])"
      ]
     },
     "execution_count": 51,
     "metadata": {},
     "output_type": "execute_result"
    }
   ],
   "source": [
    "# Crea una matriz 3x3 de de valores normalmente distribuidos\n",
    "#con media 0 y desviacion tipica 1\n",
    "np.random.normal(0, 1, (3, 3))"
   ]
  },
  {
   "cell_type": "code",
   "execution_count": 52,
   "metadata": {
    "collapsed": false
   },
   "outputs": [
    {
     "data": {
      "text/plain": [
       "array([[5, 0, 3],\n",
       "       [3, 7, 0],\n",
       "       [2, 3, 6]])"
      ]
     },
     "execution_count": 52,
     "metadata": {},
     "output_type": "execute_result"
    }
   ],
   "source": [
    "# Crea una matriz 3x3 de numeros aleatorios enteros entre el rango 0 y 10\n",
    "np.random.randint(0, 10, (3, 3))"
   ]
  },
  {
   "cell_type": "code",
   "execution_count": 53,
   "metadata": {
    "collapsed": false
   },
   "outputs": [
    {
     "name": "stdout",
     "output_type": "stream",
     "text": [
      "6.0\n",
      "6.0\n",
      "7.0\n",
      "6.0\n",
      "7\n"
     ]
    }
   ],
   "source": [
    "# Cinco maneras de redondear un numero entero\n",
    "\n",
    "Z= 6.85\n",
    "\n",
    "print (Z - Z%1)\n",
    "print (np.floor(Z))\n",
    "print (np.ceil(Z))\n",
    "print (np.trunc(Z))\n",
    "print(round(Z))"
   ]
  },
  {
   "cell_type": "code",
   "execution_count": 54,
   "metadata": {
    "collapsed": false
   },
   "outputs": [
    {
     "name": "stdout",
     "output_type": "stream",
     "text": [
      "[[ 0.  1.  2.]\n",
      " [ 3.  4.  5.]\n",
      " [ 6.  7.  8.]]\n",
      "[10 10 10]\n",
      "[[ 10.  11.  12.]\n",
      " [ 13.  14.  15.]\n",
      " [ 16.  17.  18.]]\n",
      "[[-10.  -9.  -8.]\n",
      " [ -7.  -6.  -5.]\n",
      " [ -4.  -3.  -2.]]\n",
      "[[  0.  10.  20.]\n",
      " [ 30.  40.  50.]\n",
      " [ 60.  70.  80.]]\n",
      "[[ 0.   0.1  0.2]\n",
      " [ 0.3  0.4  0.5]\n",
      " [ 0.6  0.7  0.8]]\n"
     ]
    }
   ],
   "source": [
    "a = np.arange(9, dtype = np.float_).reshape(3,3) \n",
    "\n",
    "print(a) \n",
    "\n",
    "b = np.array([10,10,10]) \n",
    "print(b)\n",
    "\n",
    "# Sumo los dos arrays\n",
    "print(np.add(a,b))\n",
    "\n",
    "# Resto los dos arrays\n",
    "print(np.subtract(a,b))\n",
    "      \n",
    "# Multiplico los dos arrays\n",
    "print(np.multiply(a,b)) \n",
    "\n",
    "# Divido los dos arrays\n",
    "print(np.divide(a,b))\n"
   ]
  },
  {
   "cell_type": "code",
   "execution_count": 69,
   "metadata": {
    "collapsed": false
   },
   "outputs": [
    {
     "name": "stdout",
     "output_type": "stream",
     "text": [
      "2\n",
      "Matriz non simetrica \n",
      "-7.0\n",
      "[[ 0.28571429  0.57142857 -0.42857143]\n",
      " [ 0.57142857  0.14285714 -0.85714286]\n",
      " [-0.14285714 -0.28571429  0.71428571]]\n",
      "(array([-2.44437482,  3.6624648 ,  0.78191002]), array([[ 0.58045714, -0.80430281, -0.58383444],\n",
      "       [-0.80374863, -0.34501185, -0.6552906 ],\n",
      "       [-0.1306049 , -0.48380141,  0.47930321]]))\n",
      "[[4 1]\n",
      " [2 2]]\n",
      "[[4 1]\n",
      " [2 2]]\n"
     ]
    }
   ],
   "source": [
    "# Operaciones con matrices\n",
    "\n",
    "import numpy.linalg as linalg\n",
    "\n",
    "a=np.array([[1,2,3],[2,-1,0],[1,0,2]])\n",
    "\n",
    "print(np.trace (a))\n",
    "\n",
    "if np.all(a == a.T):\n",
    "    print(\"Matriz simetrica \")\n",
    "else:\n",
    "    print(\"Matriz non simetrica \")\n",
    "    \n",
    "print(linalg.det(a))\n",
    "\n",
    "print(linalg.inv(a))\n",
    "\n",
    "print(linalg.eig(a))\n",
    "\n",
    "# Multiplicacion de matrices elemento a elemento\n",
    "\n",
    "a = [[1, 0], [0, 1]]\n",
    "b = [[4, 1], [2, 2]]\n",
    "\n",
    "print(np.dot(a, b)) # Producto punto\n",
    "\n",
    "print(np.matmul(a, b)) # Producto punto"
   ]
  },
  {
   "cell_type": "code",
   "execution_count": 56,
   "metadata": {
    "collapsed": false
   },
   "outputs": [
    {
     "name": "stdout",
     "output_type": "stream",
     "text": [
      "[   0.25    1.33    1.      0.    100.  ]\n",
      "[ 4.         0.7518797  1.               inf  0.01     ]\n"
     ]
    },
    {
     "name": "stderr",
     "output_type": "stream",
     "text": [
      "/home/gabriel/anaconda3/lib/python3.6/site-packages/ipykernel/__main__.py:6: RuntimeWarning: divide by zero encountered in reciprocal\n"
     ]
    }
   ],
   "source": [
    "a = np.array([0.25, 1.33, 1, 0, 100]) \n",
    "\n",
    "print(a)\n",
    "\n",
    "# Calculo el reciproco de la matriz\n",
    "print(np.reciprocal(a))"
   ]
  },
  {
   "cell_type": "code",
   "execution_count": 57,
   "metadata": {
    "collapsed": false
   },
   "outputs": [
    {
     "name": "stdout",
     "output_type": "stream",
     "text": [
      "[  10  100 1000]\n",
      "[    100   10000 1000000]\n"
     ]
    }
   ],
   "source": [
    "a = np.array([10,100,1000]) \n",
    "\n",
    "print(a)\n",
    "\n",
    "# Elevo el array al cuadrado\n",
    "print(np.power(a,2)) "
   ]
  },
  {
   "cell_type": "code",
   "execution_count": 58,
   "metadata": {
    "collapsed": false
   },
   "outputs": [
    {
     "name": "stdout",
     "output_type": "stream",
     "text": [
      "[10 20 30]\n",
      "[3 5 7]\n",
      "[1 0 2]\n",
      "[1 0 2]\n"
     ]
    }
   ],
   "source": [
    "# Calculo los restos de las divisiones\n",
    "a = np.array([10,20,30]) \n",
    "b = np.array([3,5,7]) \n",
    "\n",
    "print(a) \n",
    "\n",
    "print(b)\n",
    "\n",
    "print(np.mod(a,b))\n",
    "\n",
    "print(np.remainder(a,b))"
   ]
  },
  {
   "cell_type": "code",
   "execution_count": 59,
   "metadata": {
    "collapsed": false
   },
   "outputs": [
    {
     "name": "stdout",
     "output_type": "stream",
     "text": [
      "[ -0.-5.6j   0.+0.2j  11.+0.j    1.+1.j ]\n",
      "[ -0.   0.  11.   1.]\n",
      "[-5.6  0.2  0.   1. ]\n",
      "[ -0.+5.6j   0.-0.2j  11.-0.j    1.-1.j ]\n",
      "[-1.57079633  1.57079633  0.          0.78539816]\n",
      "[-90.  90.   0.  45.]\n"
     ]
    }
   ],
   "source": [
    "a = np.array([-5.6j, 0.2j, 11. , 1+1j]) \n",
    "\n",
    "print(a)\n",
    "\n",
    "# Parte real\n",
    "print(np.real(a)) \n",
    "\n",
    "# Parte imaginaria\n",
    "print(np.imag(a)) \n",
    "\n",
    "# Conjugado\n",
    "print(np.conj(a))\n",
    "\n",
    "\n",
    "# Calculo el angulo de la representacion en polares \n",
    "print(np.angle(a))\n",
    "print(np.angle(a, deg = True))"
   ]
  },
  {
   "cell_type": "code",
   "execution_count": 60,
   "metadata": {
    "collapsed": false
   },
   "outputs": [
    {
     "name": "stdout",
     "output_type": "stream",
     "text": [
      "[[30 65 70]\n",
      " [80 95 10]\n",
      " [50 90 60]]\n",
      "65.0\n",
      "61.1111111111\n",
      "2.0\n",
      "1.11803398875\n",
      "1.25\n",
      "Minimum height:     1\n",
      "Maximum height:     4\n",
      "25th percentile:    1.75\n",
      "Median:             2.5\n",
      "75th percentile:    3.25\n",
      "[3 4 5 2 1]\n",
      "[  0  20  40  60  80 100]\n"
     ]
    }
   ],
   "source": [
    "a = np.array([[30,65,70],[80,95,10],[50,90,60]]) \n",
    "\n",
    "print(a) \n",
    "\n",
    "# Calculo la mediana\n",
    "print(np.median(a)) \n",
    "\n",
    "# La media\n",
    "print(np.mean(a)) \n",
    "\n",
    "a = np.array([1,2,3,4]) \n",
    "wts = np.array([4,3,2,1]) \n",
    "\n",
    "# La media ponderada (con pesos)\n",
    "print(np.average(a,weights = wts))\n",
    "\n",
    "# Desviacion tipica\n",
    "print(np.std([1,2,3,4]))\n",
    "\n",
    "# Varianza\n",
    "print(np.var([1,2,3,4]))\n",
    "\n",
    "print(\"Minimum height:    \", np.min(a))\n",
    "print(\"Maximum height:    \", np.max(a))\n",
    "print(\"25th percentile:   \", np.percentile(a, 25))\n",
    "print(\"Median:            \", np.median(a))\n",
    "print(\"75th percentile:   \", np.percentile(a, 75))\n",
    "\n",
    "a = np.array([22,87,5,43,56,73,55,54,11,20,51,5,79,31,27]) \n",
    "\n",
    "hist,bins = np.histogram(a,bins = [0,20,40,60,80,100]) \n",
    "\n",
    "#Me devuelve los intervalos, y las frecuencias de cada uno de ellos\n",
    "print(hist) \n",
    "print(bins) "
   ]
  },
  {
   "cell_type": "code",
   "execution_count": 61,
   "metadata": {
    "collapsed": false
   },
   "outputs": [
    {
     "name": "stdout",
     "output_type": "stream",
     "text": [
      "[[3 7]\n",
      " [9 1]]\n",
      "[[3 7]\n",
      " [1 9]]\n",
      "[[30 40 70]\n",
      " [80 20 10]\n",
      " [50 90 60]]\n",
      "7\n",
      "5\n",
      "[[ 0.  1.  2.]\n",
      " [ 3.  4.  5.]\n",
      " [ 6.  7.  8.]]\n"
     ]
    }
   ],
   "source": [
    "a = np.array([[3,7],[9,1]]) \n",
    "\n",
    "print(a)\n",
    "\n",
    "# Ordeno los valores\n",
    "print(np.sort(a))\n",
    "\n",
    "a = np.array([[30,40,70],[80,20,10],[50,90,60]]) \n",
    "\n",
    "print(a)\n",
    "\n",
    "# Obtengo el indice del valor mas alto del array\n",
    "print(np.argmax(a))\n",
    "\n",
    "# Lo mismo con el minimo\n",
    "print(np.argmin(a))\n",
    "\n",
    "x = np.arange(9.).reshape(3, 3) \n",
    "\n",
    "print(x)\n",
    "\n",
    "# Obtengo el indice de los valores que cumplen la condicion\n",
    "y = np.where(x > 3) "
   ]
  },
  {
   "cell_type": "markdown",
   "metadata": {},
   "source": [
    "#### Escribir y guardar datos en archivos"
   ]
  },
  {
   "cell_type": "code",
   "execution_count": 62,
   "metadata": {
    "collapsed": false
   },
   "outputs": [
    {
     "name": "stdout",
     "output_type": "stream",
     "text": [
      "[ 1.  2.  3.  4.  5.]\n"
     ]
    }
   ],
   "source": [
    "a = np.array([1,2,3,4,5]) \n",
    "np.savetxt('./out.txt',a) \n",
    "b = np.loadtxt('./out.txt') \n",
    "print(b)"
   ]
  },
  {
   "cell_type": "code",
   "execution_count": null,
   "metadata": {
    "collapsed": true
   },
   "outputs": [],
   "source": [
    "# Otro metodo de escribir datos en archivos\n",
    "with open('somefile.csv', 'a') as archivo:\n",
    "    archivo.write(a)"
   ]
  },
  {
   "cell_type": "code",
   "execution_count": null,
   "metadata": {
    "collapsed": true
   },
   "outputs": [],
   "source": [
    "# Otra manera de leer desde un archivo\n",
    "# data = np.genfromtxt(s, usecols=(0,1),delimiter='\\t')"
   ]
  },
  {
   "cell_type": "markdown",
   "metadata": {},
   "source": [
    "#### Funciones matematicas"
   ]
  },
  {
   "cell_type": "code",
   "execution_count": 63,
   "metadata": {
    "collapsed": true
   },
   "outputs": [],
   "source": [
    "theta = np.linspace(0, np.pi, 3)"
   ]
  },
  {
   "cell_type": "code",
   "execution_count": 64,
   "metadata": {
    "collapsed": false
   },
   "outputs": [
    {
     "name": "stdout",
     "output_type": "stream",
     "text": [
      "theta      =  [ 0.          1.57079633  3.14159265]\n",
      "sin(theta) =  [  0.00000000e+00   1.00000000e+00   1.22464680e-16]\n",
      "cos(theta) =  [  1.00000000e+00   6.12323400e-17  -1.00000000e+00]\n",
      "tan(theta) =  [  0.00000000e+00   1.63312394e+16  -1.22464680e-16]\n"
     ]
    }
   ],
   "source": [
    "print(\"theta      = \", theta)\n",
    "print(\"sin(theta) = \", np.sin(theta))\n",
    "print(\"cos(theta) = \", np.cos(theta))\n",
    "print(\"tan(theta) = \", np.tan(theta))"
   ]
  },
  {
   "cell_type": "code",
   "execution_count": 65,
   "metadata": {
    "collapsed": false
   },
   "outputs": [
    {
     "name": "stdout",
     "output_type": "stream",
     "text": [
      "x     = [1, 2, 3]\n",
      "e^x   = [  2.71828183   7.3890561   20.08553692]\n",
      "2^x   = [ 2.  4.  8.]\n",
      "3^x   = [ 3  9 27]\n"
     ]
    }
   ],
   "source": [
    "x = [1, 2, 3]\n",
    "print(\"x     =\", x)\n",
    "print(\"e^x   =\", np.exp(x))\n",
    "print(\"2^x   =\", np.exp2(x))\n",
    "print(\"3^x   =\", np.power(3, x))"
   ]
  },
  {
   "cell_type": "code",
   "execution_count": 66,
   "metadata": {
    "collapsed": false
   },
   "outputs": [
    {
     "name": "stdout",
     "output_type": "stream",
     "text": [
      "x        = [1, 2, 4, 10]\n",
      "ln(x)    = [ 0.          0.69314718  1.38629436  2.30258509]\n",
      "log2(x)  = [ 0.          1.          2.          3.32192809]\n",
      "log10(x) = [ 0.          0.30103     0.60205999  1.        ]\n"
     ]
    }
   ],
   "source": [
    "x = [1, 2, 4, 10]\n",
    "print(\"x        =\", x)\n",
    "print(\"ln(x)    =\", np.log(x))\n",
    "print(\"log2(x)  =\", np.log2(x))\n",
    "print(\"log10(x) =\", np.log10(x))"
   ]
  },
  {
   "cell_type": "code",
   "execution_count": 67,
   "metadata": {
    "collapsed": false
   },
   "outputs": [
    {
     "name": "stdout",
     "output_type": "stream",
     "text": [
      "[  84.29340846 -100.53595374   44.83281407   -8.859311      0.65459882]\n"
     ]
    },
    {
     "data": {
      "image/png": "[encoded data removed]",
      "text/plain": [
       "<matplotlib.figure.Figure at 0x7fdb43120b38>"
      ]
     },
     "metadata": {},
     "output_type": "display_data"
    }
   ],
   "source": [
    "import numpy as np\n",
    "import matplotlib.pyplot as plt\n",
    "\n",
    "x = [ 3.08,  3.1 ,  3.12,  3.14,  3.16,  3.18,  3.2 ,  3.22,  3.24,\n",
    "    3.26,  3.28,  3.3 ,  3.32,  3.34,  3.36,  3.38,  3.4 ,  3.42,\n",
    "    3.44,  3.46,  3.48,  3.5 ,  3.52,  3.54,  3.56,  3.58,  3.6 ,\n",
    "    3.62,  3.64,  3.66,  3.68]\n",
    "\n",
    "y = [ 0.000857,  0.001182,  0.001619,  0.002113,  0.002702,  0.003351,\n",
    "    0.004062,  0.004754,  0.00546 ,  0.006183,  0.006816,  0.007362,\n",
    "    0.007844,  0.008207,  0.008474,  0.008541,  0.008539,  0.008445,\n",
    "    0.008251,  0.007974,  0.007608,  0.007193,  0.006752,  0.006269,\n",
    "    0.005799,  0.005302,  0.004822,  0.004339,  0.00391 ,  0.003481,\n",
    "    0.003095]\n",
    "\n",
    "x_new = np.linspace(x[0], x[-1], num=len(x)*10)\n",
    "# En general: np.polynomial.polynomial.polyfit devuelve coeficientes [A, B, C] \n",
    "# de la ecuacion A + Bx + Cx^2 + ..., mientras np.polyfit devuelve: ... + Ax^2 + Bx + C\n",
    "        \n",
    "coefs = np.polynomial.polynomial.polyfit(x, y, 4)\n",
    "\n",
    "print(coefs)\n",
    "\n",
    "ffit = np.polynomial.polynomial.Polynomial(coefs)\n",
    "\n",
    "fig = plt.figure(figsize=(10,8))\n",
    "\n",
    "plt.plot(x, y, label='data')\n",
    "\n",
    "plt.legend()\n",
    "\n",
    "plt.plot(x_new, ffit(x_new), 'hb',markevery=5)\n",
    "plt.show()"
   ]
  },
  {
   "cell_type": "code",
   "execution_count": 68,
   "metadata": {
    "collapsed": false
   },
   "outputs": [
    {
     "data": {
      "image/png": "[encoded data removed]",
      "text/plain": [
       "<matplotlib.figure.Figure at 0x7fdb47e99438>"
      ]
     },
     "metadata": {},
     "output_type": "display_data"
    }
   ],
   "source": [
    "import numpy as np\n",
    "# from math import *\n",
    "\n",
    "x = np.linspace (0, 2 * np.pi , 10)\n",
    "\n",
    "y = np.sin(x)\n",
    "xvals = np.linspace(0, 2 * np.pi , 50)\n",
    "yinterp = np.interp(xvals , x, y) #interpolacion lineal\n",
    "\n",
    "import matplotlib.pyplot as plt\n",
    "fig = plt.figure(figsize=(10,8))\n",
    "plt.plot(x, y, 'o') # puntos reales\n",
    "plt.plot(xvals , yinterp , '-x') # puntos interpolados\n",
    "plt.title('seno(x)')\n",
    "plt.xlabel('x')\n",
    "plt.ylabel('y')\n",
    "plt.grid(True )\n",
    "plt.show()"
   ]
  }
 ],
 "metadata": {
  "kernelspec": {
   "display_name": "Python 3",
   "language": "python",
   "name": "python3"
  },
  "language_info": {
   "codemirror_mode": {
    "name": "ipython",
    "version": 3
   },
   "file_extension": ".py",
   "mimetype": "text/x-python",
   "name": "python",
   "nbconvert_exporter": "python",
   "pygments_lexer": "ipython3",
   "version": "3.6.0"
  }
 },
 "nbformat": 4,
 "nbformat_minor": 2
}
